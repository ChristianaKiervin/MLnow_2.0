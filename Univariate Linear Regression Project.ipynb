{
  "nbformat": 4,
  "nbformat_minor": 0,
  "metadata": {
    "colab": {
      "name": "3.1_Univariate.ipynb",
      "provenance": [],
      "include_colab_link": true
    },
    "kernelspec": {
      "name": "python3",
      "display_name": "Python 3"
    }
  },
  "cells": [
    {
      "cell_type": "markdown",
      "metadata": {
        "id": "view-in-github",
        "colab_type": "text"
      },
      "source": [
        "<a href=\"https://colab.research.google.com/github/ChristianaKiervin/MLnow_2.0/blob/main/Univariate%20Linear%20Regression%20Project.ipynb\" target=\"_parent\"><img src=\"https://colab.research.google.com/assets/colab-badge.svg\" alt=\"Open In Colab\"/></a>"
      ]
    },
    {
      "cell_type": "markdown",
      "metadata": {
        "id": "q_569ugy6lyY"
      },
      "source": [
        "##Univariate Linear Regression\n",
        "\n",
        "\n",
        "\n",
        "[Link to Download the dataset]()\n",
        "\n",
        "**Date Created**: June 6, 2021\n",
        "\n",
        "\n",
        "**Author**:\n",
        "Christiana Kiervin\n"
      ]
    },
    {
      "cell_type": "markdown",
      "metadata": {
        "id": "KmW9S6zjaauQ"
      },
      "source": [
        "## Setup"
      ]
    },
    {
      "cell_type": "code",
      "metadata": {
        "colab": {
          "base_uri": "https://localhost:8080/"
        },
        "id": "oX_QibhWsnnX",
        "outputId": "dd229e2d-2a7c-4870-8f12-b0b454f9853a"
      },
      "source": [
        "from google.colab import drive\n",
        "drive.mount('/content/drive')"
      ],
      "execution_count": 1,
      "outputs": [
        {
          "output_type": "stream",
          "text": [
            "Mounted at /content/drive\n"
          ],
          "name": "stdout"
        }
      ]
    },
    {
      "cell_type": "code",
      "metadata": {
        "colab": {
          "base_uri": "https://localhost:8080/"
        },
        "id": "wYuNn17Isvml",
        "outputId": "7177a335-147a-4579-a1ab-494c885b4613"
      },
      "source": [
        "cd '/content/drive/MyDrive/ML Course/Health'"
      ],
      "execution_count": 33,
      "outputs": [
        {
          "output_type": "stream",
          "text": [
            "/content/drive/MyDrive/ML Course/Health\n"
          ],
          "name": "stdout"
        }
      ]
    },
    {
      "cell_type": "code",
      "metadata": {
        "colab": {
          "base_uri": "https://localhost:8080/"
        },
        "id": "oR69jwALs-uP",
        "outputId": "2f64126e-2253-4435-c6c3-ab9eadddd207"
      },
      "source": [
        "ls"
      ],
      "execution_count": 34,
      "outputs": [
        {
          "output_type": "stream",
          "text": [
            "consc_health.csv\n"
          ],
          "name": "stdout"
        }
      ]
    },
    {
      "cell_type": "code",
      "metadata": {
        "id": "0rYwvbeMtPJg"
      },
      "source": [
        "import os"
      ],
      "execution_count": 35,
      "outputs": []
    },
    {
      "cell_type": "code",
      "metadata": {
        "id": "cnGQRbmes_tZ"
      },
      "source": [
        "import pandas as pd #working with csv or excel files\n",
        "import numpy as np #working with numbers/ arrays/ tensors\n",
        "import tensorflow as tf #framework\n",
        "from tensorflow import keras #API / library \n",
        "import os #using os commands between the python language"
      ],
      "execution_count": 37,
      "outputs": []
    },
    {
      "cell_type": "code",
      "metadata": {
        "id": "VV-Ps6dJtX6B"
      },
      "source": [
        "trainData = pd.read_csv('consc_health.csv') #load the train csv file as dataframe"
      ],
      "execution_count": 38,
      "outputs": []
    },
    {
      "cell_type": "code",
      "metadata": {
        "colab": {
          "base_uri": "https://localhost:8080/",
          "height": 343
        },
        "id": "2_KId_bptr05",
        "outputId": "a025de3a-1a57-4a51-d4e8-af2afee80c41"
      },
      "source": [
        "trainData.head(10) #print the first ten rows of the train dataframe"
      ],
      "execution_count": 39,
      "outputs": [
        {
          "output_type": "execute_result",
          "data": {
            "text/html": [
              "<div>\n",
              "<style scoped>\n",
              "    .dataframe tbody tr th:only-of-type {\n",
              "        vertical-align: middle;\n",
              "    }\n",
              "\n",
              "    .dataframe tbody tr th {\n",
              "        vertical-align: top;\n",
              "    }\n",
              "\n",
              "    .dataframe thead th {\n",
              "        text-align: right;\n",
              "    }\n",
              "</style>\n",
              "<table border=\"1\" class=\"dataframe\">\n",
              "  <thead>\n",
              "    <tr style=\"text-align: right;\">\n",
              "      <th></th>\n",
              "      <th>pid</th>\n",
              "      <th>gender</th>\n",
              "      <th>consc</th>\n",
              "      <th>sr_health</th>\n",
              "    </tr>\n",
              "  </thead>\n",
              "  <tbody>\n",
              "    <tr>\n",
              "      <th>0</th>\n",
              "      <td>1</td>\n",
              "      <td>male</td>\n",
              "      <td>2.659688</td>\n",
              "      <td>1.909508</td>\n",
              "    </tr>\n",
              "    <tr>\n",
              "      <th>1</th>\n",
              "      <td>2</td>\n",
              "      <td>male</td>\n",
              "      <td>5.022069</td>\n",
              "      <td>4.493539</td>\n",
              "    </tr>\n",
              "    <tr>\n",
              "      <th>2</th>\n",
              "      <td>3</td>\n",
              "      <td>male</td>\n",
              "      <td>3.846887</td>\n",
              "      <td>3.403894</td>\n",
              "    </tr>\n",
              "    <tr>\n",
              "      <th>3</th>\n",
              "      <td>4</td>\n",
              "      <td>male</td>\n",
              "      <td>1.734497</td>\n",
              "      <td>2.045359</td>\n",
              "    </tr>\n",
              "    <tr>\n",
              "      <th>4</th>\n",
              "      <td>5</td>\n",
              "      <td>male</td>\n",
              "      <td>3.452961</td>\n",
              "      <td>4.210038</td>\n",
              "    </tr>\n",
              "    <tr>\n",
              "      <th>5</th>\n",
              "      <td>6</td>\n",
              "      <td>male</td>\n",
              "      <td>4.005985</td>\n",
              "      <td>5.111872</td>\n",
              "    </tr>\n",
              "    <tr>\n",
              "      <th>6</th>\n",
              "      <td>7</td>\n",
              "      <td>male</td>\n",
              "      <td>2.817236</td>\n",
              "      <td>3.089556</td>\n",
              "    </tr>\n",
              "    <tr>\n",
              "      <th>7</th>\n",
              "      <td>8</td>\n",
              "      <td>male</td>\n",
              "      <td>3.902623</td>\n",
              "      <td>4.575580</td>\n",
              "    </tr>\n",
              "    <tr>\n",
              "      <th>8</th>\n",
              "      <td>9</td>\n",
              "      <td>male</td>\n",
              "      <td>3.102556</td>\n",
              "      <td>3.902935</td>\n",
              "    </tr>\n",
              "    <tr>\n",
              "      <th>9</th>\n",
              "      <td>10</td>\n",
              "      <td>male</td>\n",
              "      <td>3.039057</td>\n",
              "      <td>2.637214</td>\n",
              "    </tr>\n",
              "  </tbody>\n",
              "</table>\n",
              "</div>"
            ],
            "text/plain": [
              "   pid gender     consc  sr_health\n",
              "0    1   male  2.659688   1.909508\n",
              "1    2   male  5.022069   4.493539\n",
              "2    3   male  3.846887   3.403894\n",
              "3    4   male  1.734497   2.045359\n",
              "4    5   male  3.452961   4.210038\n",
              "5    6   male  4.005985   5.111872\n",
              "6    7   male  2.817236   3.089556\n",
              "7    8   male  3.902623   4.575580\n",
              "8    9   male  3.102556   3.902935\n",
              "9   10   male  3.039057   2.637214"
            ]
          },
          "metadata": {
            "tags": []
          },
          "execution_count": 39
        }
      ]
    },
    {
      "cell_type": "markdown",
      "metadata": {
        "id": "i2bal50yG_PZ"
      },
      "source": [
        "We are just going to consider self-reportedconscientiousness and self-reported health scores for this univariate linear regression\n",
        "\n",
        "$health_i = consc_i  \\cdot \\theta_1 + \\theta_0$"
      ]
    },
    {
      "cell_type": "code",
      "metadata": {
        "colab": {
          "base_uri": "https://localhost:8080/",
          "height": 195
        },
        "id": "Yw0PNCuTSEDC",
        "outputId": "66d6e15c-0e6a-40ee-ff88-894d94b9876b"
      },
      "source": [
        "uniTrainData = trainData[['consc', 'sr_health']]\n",
        "uniTrainData.head(5)"
      ],
      "execution_count": 40,
      "outputs": [
        {
          "output_type": "execute_result",
          "data": {
            "text/html": [
              "<div>\n",
              "<style scoped>\n",
              "    .dataframe tbody tr th:only-of-type {\n",
              "        vertical-align: middle;\n",
              "    }\n",
              "\n",
              "    .dataframe tbody tr th {\n",
              "        vertical-align: top;\n",
              "    }\n",
              "\n",
              "    .dataframe thead th {\n",
              "        text-align: right;\n",
              "    }\n",
              "</style>\n",
              "<table border=\"1\" class=\"dataframe\">\n",
              "  <thead>\n",
              "    <tr style=\"text-align: right;\">\n",
              "      <th></th>\n",
              "      <th>consc</th>\n",
              "      <th>sr_health</th>\n",
              "    </tr>\n",
              "  </thead>\n",
              "  <tbody>\n",
              "    <tr>\n",
              "      <th>0</th>\n",
              "      <td>2.659688</td>\n",
              "      <td>1.909508</td>\n",
              "    </tr>\n",
              "    <tr>\n",
              "      <th>1</th>\n",
              "      <td>5.022069</td>\n",
              "      <td>4.493539</td>\n",
              "    </tr>\n",
              "    <tr>\n",
              "      <th>2</th>\n",
              "      <td>3.846887</td>\n",
              "      <td>3.403894</td>\n",
              "    </tr>\n",
              "    <tr>\n",
              "      <th>3</th>\n",
              "      <td>1.734497</td>\n",
              "      <td>2.045359</td>\n",
              "    </tr>\n",
              "    <tr>\n",
              "      <th>4</th>\n",
              "      <td>3.452961</td>\n",
              "      <td>4.210038</td>\n",
              "    </tr>\n",
              "  </tbody>\n",
              "</table>\n",
              "</div>"
            ],
            "text/plain": [
              "      consc  sr_health\n",
              "0  2.659688   1.909508\n",
              "1  5.022069   4.493539\n",
              "2  3.846887   3.403894\n",
              "3  1.734497   2.045359\n",
              "4  3.452961   4.210038"
            ]
          },
          "metadata": {
            "tags": []
          },
          "execution_count": 40
        }
      ]
    },
    {
      "cell_type": "code",
      "metadata": {
        "id": "eyzP9mL4Hmb5"
      },
      "source": [
        "uniTrainData.to_csv('univariate_healthData.csv')"
      ],
      "execution_count": 41,
      "outputs": []
    },
    {
      "cell_type": "code",
      "metadata": {
        "colab": {
          "base_uri": "https://localhost:8080/"
        },
        "id": "I-3qK_nNxnTA",
        "outputId": "0969c8ac-40f1-4f8c-acff-32cdf85f8b74"
      },
      "source": [
        "ls"
      ],
      "execution_count": 42,
      "outputs": [
        {
          "output_type": "stream",
          "text": [
            "consc_health.csv  univariate_healthData.csv\n"
          ],
          "name": "stdout"
        }
      ]
    },
    {
      "cell_type": "markdown",
      "metadata": {
        "id": "ImV3p6AKxszU"
      },
      "source": [
        "## Data visualization"
      ]
    },
    {
      "cell_type": "code",
      "metadata": {
        "colab": {
          "base_uri": "https://localhost:8080/",
          "height": 153
        },
        "id": "RqumcsZLxq4v",
        "outputId": "89e81c0f-ffbd-4d6f-fe60-27253ac9de67"
      },
      "source": [
        "import seaborn as sns\n",
        "sns.palplot(sns.color_palette('rocket')) #Purple to Orange colors\n",
        "pal = sns.color_palette('rocket', 6) #print 6 color shades from rocket\n",
        "pal.as_hex() #set hex code values for colors\n",
        "\n",
        "import matplotlib.pyplot as plt\n",
        "plt.style.use(['seaborn'])\n",
        "sns_colors = ['#6698FF', '#F660AB'] #blue and pink hex codes (see: https://www.colorschemer.com/hex-color-codes/#:~:text=HEX%20Color%20Codes%20Chart%20%20%20%20HEX,%20%20Midnight%20%2099%20more%20rows%20)\n",
        "sns.set_palette(sns_colors) #set the palette as sns_colors \n",
        "sns.palplot(sns.color_palette(sns_colors)) #plot the color codes"
      ],
      "execution_count": 43,
      "outputs": [
        {
          "output_type": "display_data",
          "data": {
            "image/png": "[encoded data removed]",
            "text/plain": [
              "<Figure size 432x72 with 1 Axes>"
            ]
          },
          "metadata": {
            "tags": []
          }
        },
        {
          "output_type": "display_data",
          "data": {
            "image/png": "[encoded data removed]",
            "text/plain": [
              "<Figure size 144x72 with 1 Axes>"
            ]
          },
          "metadata": {
            "tags": []
          }
        }
      ]
    },
    {
      "cell_type": "code",
      "metadata": {
        "colab": {
          "base_uri": "https://localhost:8080/"
        },
        "id": "A6MT5E8Fy7MZ",
        "outputId": "fca2c94f-dcfc-4b84-b56d-454cba385d09"
      },
      "source": [
        "uniTrainData.columns #columns in the dataframe"
      ],
      "execution_count": 44,
      "outputs": [
        {
          "output_type": "execute_result",
          "data": {
            "text/plain": [
              "Index(['consc', 'sr_health'], dtype='object')"
            ]
          },
          "metadata": {
            "tags": []
          },
          "execution_count": 44
        }
      ]
    },
    {
      "cell_type": "code",
      "metadata": {
        "colab": {
          "base_uri": "https://localhost:8080/",
          "height": 391
        },
        "id": "PrsTwdHHzBbk",
        "outputId": "ff99e5f3-bcaf-4234-870b-d35538b2bf17"
      },
      "source": [
        "#pairplot for all the values\n",
        "\n",
        "sns.pairplot(uniTrainData,\n",
        "             x_vars = ['consc', 'sr_health'],\n",
        "             y_vars =  ['consc', 'sr_health'],\n",
        "       diag_kind='kde'\n",
        "             )"
      ],
      "execution_count": 45,
      "outputs": [
        {
          "output_type": "execute_result",
          "data": {
            "text/plain": [
              "<seaborn.axisgrid.PairGrid at 0x7fef01810310>"
            ]
          },
          "metadata": {
            "tags": []
          },
          "execution_count": 45
        },
        {
          "output_type": "display_data",
          "data": {
            "image/png": "[encoded data removed]",
            "text/plain": [
              "<Figure size 360x360 with 6 Axes>"
            ]
          },
          "metadata": {
            "tags": []
          }
        }
      ]
    },
    {
      "cell_type": "markdown",
      "metadata": {
        "id": "Klm33YcpKZkl"
      },
      "source": [
        "## Data Splits"
      ]
    },
    {
      "cell_type": "code",
      "metadata": {
        "colab": {
          "base_uri": "https://localhost:8080/"
        },
        "id": "UwrSOCKS1NhN",
        "outputId": "7df86de6-2117-440b-d6aa-612bb0a7c345"
      },
      "source": [
        "#80-20 train-test percent split\n",
        "\n",
        "trainDataset = uniTrainData.sample(frac=0.8, random_state=0) \n",
        "testDataset = uniTrainData.drop(trainDataset.index)\n",
        "\n",
        "print(trainDataset.head())\n",
        "print(testDataset.head())"
      ],
      "execution_count": 46,
      "outputs": [
        {
          "output_type": "stream",
          "text": [
            "       consc  sr_health\n",
            "26  2.717430   3.128065\n",
            "35  1.667966   2.860350\n",
            "59  2.288752   1.658569\n",
            "28  2.499324   2.963693\n",
            "11  3.560962   2.941156\n",
            "       consc  sr_health\n",
            "0   2.659688   1.909508\n",
            "3   1.734497   2.045359\n",
            "9   3.039057   2.637214\n",
            "19  3.345485   2.914556\n",
            "21  2.412827   2.275091\n"
          ],
          "name": "stdout"
        }
      ]
    },
    {
      "cell_type": "code",
      "metadata": {
        "colab": {
          "base_uri": "https://localhost:8080/"
        },
        "id": "YWO2xRV53wV-",
        "outputId": "7150ddfa-ec91-422d-dfcf-b8a462004d76"
      },
      "source": [
        "print(trainDataset.shape)\n",
        "print(testDataset.shape)"
      ],
      "execution_count": 47,
      "outputs": [
        {
          "output_type": "stream",
          "text": [
            "(48, 2)\n",
            "(12, 2)\n"
          ],
          "name": "stdout"
        }
      ]
    },
    {
      "cell_type": "code",
      "metadata": {
        "colab": {
          "base_uri": "https://localhost:8080/"
        },
        "id": "OmDTbvMC32hg",
        "outputId": "497c594d-540c-4d31-f1ee-d52b5d456475"
      },
      "source": [
        "#copy the trainDataset dataframe for getting the features\n",
        "\n",
        "trainFeatures = trainDataset.copy()\n",
        "testFeatures = testDataset.copy()\n",
        "\n",
        "print(trainFeatures.head())\n",
        "print(testFeatures.head())"
      ],
      "execution_count": 48,
      "outputs": [
        {
          "output_type": "stream",
          "text": [
            "       consc  sr_health\n",
            "26  2.717430   3.128065\n",
            "35  1.667966   2.860350\n",
            "59  2.288752   1.658569\n",
            "28  2.499324   2.963693\n",
            "11  3.560962   2.941156\n",
            "       consc  sr_health\n",
            "0   2.659688   1.909508\n",
            "3   1.734497   2.045359\n",
            "9   3.039057   2.637214\n",
            "19  3.345485   2.914556\n",
            "21  2.412827   2.275091\n"
          ],
          "name": "stdout"
        }
      ]
    },
    {
      "cell_type": "code",
      "metadata": {
        "colab": {
          "base_uri": "https://localhost:8080/"
        },
        "id": "jSR0_uni4ayh",
        "outputId": "d04b70c7-97fa-4fc4-ab80-33b77a1bde95"
      },
      "source": [
        "#removing the SalePrice column and saving it into the labels variable\n",
        "\n",
        "trainLabels = trainFeatures.pop('sr_health')\n",
        "testLabels = testFeatures.pop('sr_health')\n",
        "\n",
        "print(trainLabels.head())\n",
        "print(testLabels.head())"
      ],
      "execution_count": 50,
      "outputs": [
        {
          "output_type": "stream",
          "text": [
            "26    3.128065\n",
            "35    2.860350\n",
            "59    1.658569\n",
            "28    2.963693\n",
            "11    2.941156\n",
            "Name: sr_health, dtype: float64\n",
            "0     1.909508\n",
            "3     2.045359\n",
            "9     2.637214\n",
            "19    2.914556\n",
            "21    2.275091\n",
            "Name: sr_health, dtype: float64\n"
          ],
          "name": "stdout"
        }
      ]
    },
    {
      "cell_type": "code",
      "metadata": {
        "colab": {
          "base_uri": "https://localhost:8080/"
        },
        "id": "HnGSqb-q4wk8",
        "outputId": "3c0ab45f-636a-4594-ccde-e00153a06578"
      },
      "source": [
        "print(trainFeatures.head())\n",
        "print(testFeatures.head())"
      ],
      "execution_count": 51,
      "outputs": [
        {
          "output_type": "stream",
          "text": [
            "       consc\n",
            "26  2.717430\n",
            "35  1.667966\n",
            "59  2.288752\n",
            "28  2.499324\n",
            "11  3.560962\n",
            "       consc\n",
            "0   2.659688\n",
            "3   1.734497\n",
            "9   3.039057\n",
            "19  3.345485\n",
            "21  2.412827\n"
          ],
          "name": "stdout"
        }
      ]
    },
    {
      "cell_type": "code",
      "metadata": {
        "id": "XPTSq34jk4o_"
      },
      "source": [
        "# univariate -> num(features) = 1\n",
        "# multvariate -> num(features) > 1 = 11\n",
        "\n",
        "\n",
        "model = tf.keras.Sequential([\n",
        "                             tf.keras.layers.Dense(1)\n",
        "\n",
        "])"
      ],
      "execution_count": 95,
      "outputs": []
    },
    {
      "cell_type": "code",
      "metadata": {
        "id": "4C4GKBdE6iCE"
      },
      "source": [
        "model.compile(\n",
        "    loss = 'mean_absolute_error', #minimizing the MAE loss\n",
        "    #optimizer = tf.keras.optimizers.Adam(0.001), #learning rate specified as 0.001\n",
        "    optimizer = 'adam', #use this line if you wanted to just take the default learning rate\n",
        "    metrics = ['mae', 'mse'] #meanSquare and meanAbsolute error metrics\n",
        ")"
      ],
      "execution_count": 98,
      "outputs": []
    },
    {
      "cell_type": "code",
      "metadata": {
        "colab": {
          "base_uri": "https://localhost:8080/"
        },
        "id": "d_A7DrhB6zvm",
        "outputId": "f5148a2b-f746-4dd3-9318-3e07101467f3"
      },
      "source": [
        "numEpochs = 500\n",
        "history = model.fit(x = trainFeatures, y = trainLabels, validation_data = (testFeatures, testLabels), epochs = numEpochs)"
      ],
      "execution_count": 99,
      "outputs": [
        {
          "output_type": "stream",
          "text": [
            "Epoch 1/500\n",
            "2/2 [==============================] - 0s 136ms/step - loss: 2.1999 - mae: 2.1999 - mse: 5.8296 - val_loss: 1.4848 - val_mae: 1.4848 - val_mse: 2.7509\n",
            "Epoch 2/500\n",
            "2/2 [==============================] - 0s 22ms/step - loss: 2.1921 - mae: 2.1921 - mse: 5.7938 - val_loss: 1.4779 - val_mae: 1.4779 - val_mse: 2.7302\n",
            "Epoch 3/500\n",
            "2/2 [==============================] - 0s 22ms/step - loss: 2.1842 - mae: 2.1842 - mse: 5.7579 - val_loss: 1.4711 - val_mae: 1.4711 - val_mse: 2.7096\n",
            "Epoch 4/500\n",
            "2/2 [==============================] - 0s 23ms/step - loss: 2.1763 - mae: 2.1763 - mse: 5.7214 - val_loss: 1.4642 - val_mae: 1.4642 - val_mse: 2.6892\n",
            "Epoch 5/500\n",
            "2/2 [==============================] - 0s 21ms/step - loss: 2.1684 - mae: 2.1684 - mse: 5.6849 - val_loss: 1.4574 - val_mae: 1.4574 - val_mse: 2.6688\n",
            "Epoch 6/500\n",
            "2/2 [==============================] - 0s 22ms/step - loss: 2.1605 - mae: 2.1605 - mse: 5.6490 - val_loss: 1.4506 - val_mae: 1.4506 - val_mse: 2.6486\n",
            "Epoch 7/500\n",
            "2/2 [==============================] - 0s 24ms/step - loss: 2.1526 - mae: 2.1526 - mse: 5.6125 - val_loss: 1.4437 - val_mae: 1.4437 - val_mse: 2.6284\n",
            "Epoch 8/500\n",
            "2/2 [==============================] - 0s 21ms/step - loss: 2.1447 - mae: 2.1447 - mse: 5.5773 - val_loss: 1.4369 - val_mae: 1.4369 - val_mse: 2.6084\n",
            "Epoch 9/500\n",
            "2/2 [==============================] - 0s 20ms/step - loss: 2.1368 - mae: 2.1368 - mse: 5.5414 - val_loss: 1.4301 - val_mae: 1.4301 - val_mse: 2.5884\n",
            "Epoch 10/500\n",
            "2/2 [==============================] - 0s 22ms/step - loss: 2.1289 - mae: 2.1289 - mse: 5.5061 - val_loss: 1.4232 - val_mae: 1.4232 - val_mse: 2.5686\n",
            "Epoch 11/500\n",
            "2/2 [==============================] - 0s 19ms/step - loss: 2.1210 - mae: 2.1210 - mse: 5.4700 - val_loss: 1.4164 - val_mae: 1.4164 - val_mse: 2.5488\n",
            "Epoch 12/500\n",
            "2/2 [==============================] - 0s 21ms/step - loss: 2.1131 - mae: 2.1131 - mse: 5.4343 - val_loss: 1.4096 - val_mae: 1.4096 - val_mse: 2.5291\n",
            "Epoch 13/500\n",
            "2/2 [==============================] - 0s 28ms/step - loss: 2.1051 - mae: 2.1051 - mse: 5.3996 - val_loss: 1.4027 - val_mae: 1.4027 - val_mse: 2.5095\n",
            "Epoch 14/500\n",
            "2/2 [==============================] - 0s 19ms/step - loss: 2.0974 - mae: 2.0974 - mse: 5.3661 - val_loss: 1.3958 - val_mae: 1.3958 - val_mse: 2.4900\n",
            "Epoch 15/500\n",
            "2/2 [==============================] - 0s 21ms/step - loss: 2.0894 - mae: 2.0894 - mse: 5.3305 - val_loss: 1.3890 - val_mae: 1.3890 - val_mse: 2.4707\n",
            "Epoch 16/500\n",
            "2/2 [==============================] - 0s 26ms/step - loss: 2.0814 - mae: 2.0814 - mse: 5.2942 - val_loss: 1.3821 - val_mae: 1.3821 - val_mse: 2.4514\n",
            "Epoch 17/500\n",
            "2/2 [==============================] - 0s 26ms/step - loss: 2.0736 - mae: 2.0736 - mse: 5.2604 - val_loss: 1.3753 - val_mae: 1.3753 - val_mse: 2.4322\n",
            "Epoch 18/500\n",
            "2/2 [==============================] - 0s 21ms/step - loss: 2.0656 - mae: 2.0656 - mse: 5.2266 - val_loss: 1.3684 - val_mae: 1.3684 - val_mse: 2.4131\n",
            "Epoch 19/500\n",
            "2/2 [==============================] - 0s 23ms/step - loss: 2.0577 - mae: 2.0577 - mse: 5.1924 - val_loss: 1.3616 - val_mae: 1.3616 - val_mse: 2.3941\n",
            "Epoch 20/500\n",
            "2/2 [==============================] - 0s 30ms/step - loss: 2.0497 - mae: 2.0497 - mse: 5.1567 - val_loss: 1.3547 - val_mae: 1.3547 - val_mse: 2.3752\n",
            "Epoch 21/500\n",
            "2/2 [==============================] - 0s 22ms/step - loss: 2.0419 - mae: 2.0419 - mse: 5.1242 - val_loss: 1.3478 - val_mae: 1.3478 - val_mse: 2.3564\n",
            "Epoch 22/500\n",
            "2/2 [==============================] - 0s 25ms/step - loss: 2.0338 - mae: 2.0338 - mse: 5.0886 - val_loss: 1.3410 - val_mae: 1.3410 - val_mse: 2.3377\n",
            "Epoch 23/500\n",
            "2/2 [==============================] - 0s 20ms/step - loss: 2.0259 - mae: 2.0259 - mse: 5.0539 - val_loss: 1.3341 - val_mae: 1.3341 - val_mse: 2.3190\n",
            "Epoch 24/500\n",
            "2/2 [==============================] - 0s 22ms/step - loss: 2.0180 - mae: 2.0180 - mse: 5.0217 - val_loss: 1.3272 - val_mae: 1.3272 - val_mse: 2.3005\n",
            "Epoch 25/500\n",
            "2/2 [==============================] - 0s 26ms/step - loss: 2.0100 - mae: 2.0100 - mse: 4.9868 - val_loss: 1.3203 - val_mae: 1.3203 - val_mse: 2.2821\n",
            "Epoch 26/500\n",
            "2/2 [==============================] - 0s 22ms/step - loss: 2.0022 - mae: 2.0022 - mse: 4.9544 - val_loss: 1.3134 - val_mae: 1.3134 - val_mse: 2.2637\n",
            "Epoch 27/500\n",
            "2/2 [==============================] - 0s 25ms/step - loss: 1.9941 - mae: 1.9941 - mse: 4.9200 - val_loss: 1.3066 - val_mae: 1.3066 - val_mse: 2.2455\n",
            "Epoch 28/500\n",
            "2/2 [==============================] - 0s 27ms/step - loss: 1.9863 - mae: 1.9863 - mse: 4.8880 - val_loss: 1.2997 - val_mae: 1.2997 - val_mse: 2.2275\n",
            "Epoch 29/500\n",
            "2/2 [==============================] - 0s 36ms/step - loss: 1.9786 - mae: 1.9786 - mse: 4.8552 - val_loss: 1.2929 - val_mae: 1.2929 - val_mse: 2.2096\n",
            "Epoch 30/500\n",
            "2/2 [==============================] - 0s 23ms/step - loss: 1.9710 - mae: 1.9710 - mse: 4.8212 - val_loss: 1.2861 - val_mae: 1.2861 - val_mse: 2.1919\n",
            "Epoch 31/500\n",
            "2/2 [==============================] - 0s 24ms/step - loss: 1.9635 - mae: 1.9635 - mse: 4.7890 - val_loss: 1.2793 - val_mae: 1.2793 - val_mse: 2.1744\n",
            "Epoch 32/500\n",
            "2/2 [==============================] - 0s 24ms/step - loss: 1.9559 - mae: 1.9559 - mse: 4.7568 - val_loss: 1.2726 - val_mae: 1.2726 - val_mse: 2.1570\n",
            "Epoch 33/500\n",
            "2/2 [==============================] - 0s 26ms/step - loss: 1.9483 - mae: 1.9483 - mse: 4.7242 - val_loss: 1.2659 - val_mae: 1.2659 - val_mse: 2.1398\n",
            "Epoch 34/500\n",
            "2/2 [==============================] - 0s 24ms/step - loss: 1.9409 - mae: 1.9409 - mse: 4.6944 - val_loss: 1.2592 - val_mae: 1.2592 - val_mse: 2.1228\n",
            "Epoch 35/500\n",
            "2/2 [==============================] - 0s 20ms/step - loss: 1.9332 - mae: 1.9332 - mse: 4.6609 - val_loss: 1.2525 - val_mae: 1.2525 - val_mse: 2.1060\n",
            "Epoch 36/500\n",
            "2/2 [==============================] - 0s 27ms/step - loss: 1.9257 - mae: 1.9257 - mse: 4.6307 - val_loss: 1.2459 - val_mae: 1.2459 - val_mse: 2.0892\n",
            "Epoch 37/500\n",
            "2/2 [==============================] - 0s 22ms/step - loss: 1.9181 - mae: 1.9181 - mse: 4.5982 - val_loss: 1.2392 - val_mae: 1.2392 - val_mse: 2.0724\n",
            "Epoch 38/500\n",
            "2/2 [==============================] - 0s 23ms/step - loss: 1.9108 - mae: 1.9108 - mse: 4.5673 - val_loss: 1.2325 - val_mae: 1.2325 - val_mse: 2.0557\n",
            "Epoch 39/500\n",
            "2/2 [==============================] - 0s 22ms/step - loss: 1.9034 - mae: 1.9034 - mse: 4.5373 - val_loss: 1.2257 - val_mae: 1.2257 - val_mse: 2.0391\n",
            "Epoch 40/500\n",
            "2/2 [==============================] - 0s 25ms/step - loss: 1.8956 - mae: 1.8956 - mse: 4.5052 - val_loss: 1.2191 - val_mae: 1.2191 - val_mse: 2.0227\n",
            "Epoch 41/500\n",
            "2/2 [==============================] - 0s 28ms/step - loss: 1.8881 - mae: 1.8881 - mse: 4.4753 - val_loss: 1.2124 - val_mae: 1.2124 - val_mse: 2.0063\n",
            "Epoch 42/500\n",
            "2/2 [==============================] - 0s 22ms/step - loss: 1.8806 - mae: 1.8806 - mse: 4.4441 - val_loss: 1.2057 - val_mae: 1.2057 - val_mse: 1.9901\n",
            "Epoch 43/500\n",
            "2/2 [==============================] - 0s 23ms/step - loss: 1.8731 - mae: 1.8731 - mse: 4.4138 - val_loss: 1.1990 - val_mae: 1.1990 - val_mse: 1.9739\n",
            "Epoch 44/500\n",
            "2/2 [==============================] - 0s 23ms/step - loss: 1.8655 - mae: 1.8655 - mse: 4.3828 - val_loss: 1.1923 - val_mae: 1.1923 - val_mse: 1.9578\n",
            "Epoch 45/500\n",
            "2/2 [==============================] - 0s 21ms/step - loss: 1.8580 - mae: 1.8580 - mse: 4.3525 - val_loss: 1.1855 - val_mae: 1.1855 - val_mse: 1.9417\n",
            "Epoch 46/500\n",
            "2/2 [==============================] - 0s 21ms/step - loss: 1.8504 - mae: 1.8504 - mse: 4.3226 - val_loss: 1.1788 - val_mae: 1.1788 - val_mse: 1.9258\n",
            "Epoch 47/500\n",
            "2/2 [==============================] - 0s 32ms/step - loss: 1.8430 - mae: 1.8430 - mse: 4.2929 - val_loss: 1.1720 - val_mae: 1.1720 - val_mse: 1.9098\n",
            "Epoch 48/500\n",
            "2/2 [==============================] - 0s 22ms/step - loss: 1.8354 - mae: 1.8354 - mse: 4.2626 - val_loss: 1.1653 - val_mae: 1.1653 - val_mse: 1.8941\n",
            "Epoch 49/500\n",
            "2/2 [==============================] - 0s 25ms/step - loss: 1.8277 - mae: 1.8277 - mse: 4.2322 - val_loss: 1.1586 - val_mae: 1.1586 - val_mse: 1.8785\n",
            "Epoch 50/500\n",
            "2/2 [==============================] - 0s 24ms/step - loss: 1.8203 - mae: 1.8203 - mse: 4.2026 - val_loss: 1.1519 - val_mae: 1.1519 - val_mse: 1.8629\n",
            "Epoch 51/500\n",
            "2/2 [==============================] - 0s 26ms/step - loss: 1.8126 - mae: 1.8126 - mse: 4.1722 - val_loss: 1.1451 - val_mae: 1.1451 - val_mse: 1.8474\n",
            "Epoch 52/500\n",
            "2/2 [==============================] - 0s 41ms/step - loss: 1.8051 - mae: 1.8051 - mse: 4.1427 - val_loss: 1.1384 - val_mae: 1.1384 - val_mse: 1.8320\n",
            "Epoch 53/500\n",
            "2/2 [==============================] - 0s 25ms/step - loss: 1.7975 - mae: 1.7975 - mse: 4.1132 - val_loss: 1.1316 - val_mae: 1.1316 - val_mse: 1.8167\n",
            "Epoch 54/500\n",
            "2/2 [==============================] - 0s 24ms/step - loss: 1.7899 - mae: 1.7899 - mse: 4.0842 - val_loss: 1.1249 - val_mae: 1.1249 - val_mse: 1.8015\n",
            "Epoch 55/500\n",
            "2/2 [==============================] - 0s 26ms/step - loss: 1.7824 - mae: 1.7824 - mse: 4.0558 - val_loss: 1.1181 - val_mae: 1.1181 - val_mse: 1.7864\n",
            "Epoch 56/500\n",
            "2/2 [==============================] - 0s 23ms/step - loss: 1.7747 - mae: 1.7747 - mse: 4.0262 - val_loss: 1.1114 - val_mae: 1.1114 - val_mse: 1.7714\n",
            "Epoch 57/500\n",
            "2/2 [==============================] - 0s 31ms/step - loss: 1.7672 - mae: 1.7672 - mse: 3.9968 - val_loss: 1.1046 - val_mae: 1.1046 - val_mse: 1.7564\n",
            "Epoch 58/500\n",
            "2/2 [==============================] - 0s 24ms/step - loss: 1.7596 - mae: 1.7596 - mse: 3.9681 - val_loss: 1.0979 - val_mae: 1.0979 - val_mse: 1.7416\n",
            "Epoch 59/500\n",
            "2/2 [==============================] - 0s 23ms/step - loss: 1.7522 - mae: 1.7522 - mse: 3.9400 - val_loss: 1.0911 - val_mae: 1.0911 - val_mse: 1.7269\n",
            "Epoch 60/500\n",
            "2/2 [==============================] - 0s 26ms/step - loss: 1.7443 - mae: 1.7443 - mse: 3.9096 - val_loss: 1.0844 - val_mae: 1.0844 - val_mse: 1.7123\n",
            "Epoch 61/500\n",
            "2/2 [==============================] - 0s 23ms/step - loss: 1.7369 - mae: 1.7369 - mse: 3.8816 - val_loss: 1.0776 - val_mae: 1.0776 - val_mse: 1.6978\n",
            "Epoch 62/500\n",
            "2/2 [==============================] - 0s 28ms/step - loss: 1.7292 - mae: 1.7292 - mse: 3.8538 - val_loss: 1.0709 - val_mae: 1.0709 - val_mse: 1.6834\n",
            "Epoch 63/500\n",
            "2/2 [==============================] - 0s 33ms/step - loss: 1.7217 - mae: 1.7217 - mse: 3.8241 - val_loss: 1.0641 - val_mae: 1.0641 - val_mse: 1.6691\n",
            "Epoch 64/500\n",
            "2/2 [==============================] - 0s 30ms/step - loss: 1.7141 - mae: 1.7141 - mse: 3.7981 - val_loss: 1.0573 - val_mae: 1.0573 - val_mse: 1.6548\n",
            "Epoch 65/500\n",
            "2/2 [==============================] - 0s 28ms/step - loss: 1.7065 - mae: 1.7065 - mse: 3.7689 - val_loss: 1.0506 - val_mae: 1.0506 - val_mse: 1.6406\n",
            "Epoch 66/500\n",
            "2/2 [==============================] - 0s 22ms/step - loss: 1.6988 - mae: 1.6988 - mse: 3.7404 - val_loss: 1.0438 - val_mae: 1.0438 - val_mse: 1.6266\n",
            "Epoch 67/500\n",
            "2/2 [==============================] - 0s 25ms/step - loss: 1.6914 - mae: 1.6914 - mse: 3.7128 - val_loss: 1.0370 - val_mae: 1.0370 - val_mse: 1.6126\n",
            "Epoch 68/500\n",
            "2/2 [==============================] - 0s 27ms/step - loss: 1.6837 - mae: 1.6837 - mse: 3.6856 - val_loss: 1.0302 - val_mae: 1.0302 - val_mse: 1.5987\n",
            "Epoch 69/500\n",
            "2/2 [==============================] - 0s 23ms/step - loss: 1.6761 - mae: 1.6761 - mse: 3.6584 - val_loss: 1.0235 - val_mae: 1.0235 - val_mse: 1.5850\n",
            "Epoch 70/500\n",
            "2/2 [==============================] - 0s 23ms/step - loss: 1.6685 - mae: 1.6685 - mse: 3.6311 - val_loss: 1.0167 - val_mae: 1.0167 - val_mse: 1.5714\n",
            "Epoch 71/500\n",
            "2/2 [==============================] - 0s 28ms/step - loss: 1.6609 - mae: 1.6609 - mse: 3.6040 - val_loss: 1.0099 - val_mae: 1.0099 - val_mse: 1.5578\n",
            "Epoch 72/500\n",
            "2/2 [==============================] - 0s 27ms/step - loss: 1.6532 - mae: 1.6532 - mse: 3.5761 - val_loss: 1.0032 - val_mae: 1.0032 - val_mse: 1.5443\n",
            "Epoch 73/500\n",
            "2/2 [==============================] - 0s 24ms/step - loss: 1.6456 - mae: 1.6456 - mse: 3.5489 - val_loss: 0.9964 - val_mae: 0.9964 - val_mse: 1.5309\n",
            "Epoch 74/500\n",
            "2/2 [==============================] - 0s 25ms/step - loss: 1.6380 - mae: 1.6380 - mse: 3.5220 - val_loss: 0.9896 - val_mae: 0.9896 - val_mse: 1.5176\n",
            "Epoch 75/500\n",
            "2/2 [==============================] - 0s 23ms/step - loss: 1.6303 - mae: 1.6303 - mse: 3.4949 - val_loss: 0.9828 - val_mae: 0.9828 - val_mse: 1.5044\n",
            "Epoch 76/500\n",
            "2/2 [==============================] - 0s 28ms/step - loss: 1.6228 - mae: 1.6228 - mse: 3.4683 - val_loss: 0.9759 - val_mae: 0.9759 - val_mse: 1.4913\n",
            "Epoch 77/500\n",
            "2/2 [==============================] - 0s 27ms/step - loss: 1.6151 - mae: 1.6151 - mse: 3.4422 - val_loss: 0.9691 - val_mae: 0.9691 - val_mse: 1.4782\n",
            "Epoch 78/500\n",
            "2/2 [==============================] - 0s 30ms/step - loss: 1.6077 - mae: 1.6077 - mse: 3.4158 - val_loss: 0.9623 - val_mae: 0.9623 - val_mse: 1.4653\n",
            "Epoch 79/500\n",
            "2/2 [==============================] - 0s 33ms/step - loss: 1.5999 - mae: 1.5999 - mse: 3.3890 - val_loss: 0.9556 - val_mae: 0.9556 - val_mse: 1.4526\n",
            "Epoch 80/500\n",
            "2/2 [==============================] - 0s 31ms/step - loss: 1.5923 - mae: 1.5923 - mse: 3.3623 - val_loss: 0.9488 - val_mae: 0.9488 - val_mse: 1.4400\n",
            "Epoch 81/500\n",
            "2/2 [==============================] - 0s 23ms/step - loss: 1.5850 - mae: 1.5850 - mse: 3.3379 - val_loss: 0.9421 - val_mae: 0.9421 - val_mse: 1.4275\n",
            "Epoch 82/500\n",
            "2/2 [==============================] - 0s 22ms/step - loss: 1.5775 - mae: 1.5775 - mse: 3.3108 - val_loss: 0.9354 - val_mae: 0.9354 - val_mse: 1.4152\n",
            "Epoch 83/500\n",
            "2/2 [==============================] - 0s 25ms/step - loss: 1.5707 - mae: 1.5707 - mse: 3.2869 - val_loss: 0.9288 - val_mae: 0.9288 - val_mse: 1.4032\n",
            "Epoch 84/500\n",
            "2/2 [==============================] - 0s 26ms/step - loss: 1.5637 - mae: 1.5637 - mse: 3.2621 - val_loss: 0.9223 - val_mae: 0.9223 - val_mse: 1.3913\n",
            "Epoch 85/500\n",
            "2/2 [==============================] - 0s 26ms/step - loss: 1.5571 - mae: 1.5571 - mse: 3.2368 - val_loss: 0.9158 - val_mae: 0.9158 - val_mse: 1.3797\n",
            "Epoch 86/500\n",
            "2/2 [==============================] - 0s 23ms/step - loss: 1.5503 - mae: 1.5503 - mse: 3.2127 - val_loss: 0.9094 - val_mae: 0.9094 - val_mse: 1.3682\n",
            "Epoch 87/500\n",
            "2/2 [==============================] - 0s 23ms/step - loss: 1.5436 - mae: 1.5436 - mse: 3.1879 - val_loss: 0.9030 - val_mae: 0.9030 - val_mse: 1.3569\n",
            "Epoch 88/500\n",
            "2/2 [==============================] - 0s 25ms/step - loss: 1.5370 - mae: 1.5370 - mse: 3.1645 - val_loss: 0.8966 - val_mae: 0.8966 - val_mse: 1.3457\n",
            "Epoch 89/500\n",
            "2/2 [==============================] - 0s 26ms/step - loss: 1.5307 - mae: 1.5307 - mse: 3.1411 - val_loss: 0.8902 - val_mae: 0.8902 - val_mse: 1.3345\n",
            "Epoch 90/500\n",
            "2/2 [==============================] - 0s 29ms/step - loss: 1.5239 - mae: 1.5239 - mse: 3.1183 - val_loss: 0.8838 - val_mae: 0.8838 - val_mse: 1.3236\n",
            "Epoch 91/500\n",
            "2/2 [==============================] - 0s 27ms/step - loss: 1.5174 - mae: 1.5174 - mse: 3.0946 - val_loss: 0.8775 - val_mae: 0.8775 - val_mse: 1.3127\n",
            "Epoch 92/500\n",
            "2/2 [==============================] - 0s 31ms/step - loss: 1.5109 - mae: 1.5109 - mse: 3.0719 - val_loss: 0.8712 - val_mae: 0.8712 - val_mse: 1.3020\n",
            "Epoch 93/500\n",
            "2/2 [==============================] - 0s 41ms/step - loss: 1.5042 - mae: 1.5042 - mse: 3.0476 - val_loss: 0.8649 - val_mae: 0.8649 - val_mse: 1.2914\n",
            "Epoch 94/500\n",
            "2/2 [==============================] - 0s 22ms/step - loss: 1.4979 - mae: 1.4979 - mse: 3.0260 - val_loss: 0.8586 - val_mae: 0.8586 - val_mse: 1.2808\n",
            "Epoch 95/500\n",
            "2/2 [==============================] - 0s 25ms/step - loss: 1.4913 - mae: 1.4913 - mse: 3.0021 - val_loss: 0.8522 - val_mae: 0.8522 - val_mse: 1.2704\n",
            "Epoch 96/500\n",
            "2/2 [==============================] - 0s 25ms/step - loss: 1.4849 - mae: 1.4849 - mse: 2.9806 - val_loss: 0.8459 - val_mae: 0.8459 - val_mse: 1.2600\n",
            "Epoch 97/500\n",
            "2/2 [==============================] - 0s 32ms/step - loss: 1.4782 - mae: 1.4782 - mse: 2.9572 - val_loss: 0.8397 - val_mae: 0.8397 - val_mse: 1.2498\n",
            "Epoch 98/500\n",
            "2/2 [==============================] - 0s 23ms/step - loss: 1.4718 - mae: 1.4718 - mse: 2.9357 - val_loss: 0.8334 - val_mae: 0.8334 - val_mse: 1.2396\n",
            "Epoch 99/500\n",
            "2/2 [==============================] - 0s 24ms/step - loss: 1.4651 - mae: 1.4651 - mse: 2.9129 - val_loss: 0.8270 - val_mae: 0.8270 - val_mse: 1.2295\n",
            "Epoch 100/500\n",
            "2/2 [==============================] - 0s 26ms/step - loss: 1.4590 - mae: 1.4590 - mse: 2.8920 - val_loss: 0.8207 - val_mae: 0.8207 - val_mse: 1.2194\n",
            "Epoch 101/500\n",
            "2/2 [==============================] - 0s 25ms/step - loss: 1.4521 - mae: 1.4521 - mse: 2.8693 - val_loss: 0.8144 - val_mae: 0.8144 - val_mse: 1.2094\n",
            "Epoch 102/500\n",
            "2/2 [==============================] - 0s 27ms/step - loss: 1.4459 - mae: 1.4459 - mse: 2.8485 - val_loss: 0.8081 - val_mae: 0.8081 - val_mse: 1.1996\n",
            "Epoch 103/500\n",
            "2/2 [==============================] - 0s 30ms/step - loss: 1.4392 - mae: 1.4392 - mse: 2.8258 - val_loss: 0.8018 - val_mae: 0.8018 - val_mse: 1.1898\n",
            "Epoch 104/500\n",
            "2/2 [==============================] - 0s 22ms/step - loss: 1.4325 - mae: 1.4325 - mse: 2.8043 - val_loss: 0.7955 - val_mae: 0.7955 - val_mse: 1.1802\n",
            "Epoch 105/500\n",
            "2/2 [==============================] - 0s 26ms/step - loss: 1.4263 - mae: 1.4263 - mse: 2.7824 - val_loss: 0.7892 - val_mae: 0.7892 - val_mse: 1.1706\n",
            "Epoch 106/500\n",
            "2/2 [==============================] - 0s 31ms/step - loss: 1.4199 - mae: 1.4199 - mse: 2.7610 - val_loss: 0.7828 - val_mae: 0.7828 - val_mse: 1.1611\n",
            "Epoch 107/500\n",
            "2/2 [==============================] - 0s 24ms/step - loss: 1.4137 - mae: 1.4137 - mse: 2.7397 - val_loss: 0.7765 - val_mae: 0.7765 - val_mse: 1.1516\n",
            "Epoch 108/500\n",
            "2/2 [==============================] - 0s 24ms/step - loss: 1.4077 - mae: 1.4077 - mse: 2.7187 - val_loss: 0.7701 - val_mae: 0.7701 - val_mse: 1.1422\n",
            "Epoch 109/500\n",
            "2/2 [==============================] - 0s 23ms/step - loss: 1.4015 - mae: 1.4015 - mse: 2.6977 - val_loss: 0.7639 - val_mae: 0.7639 - val_mse: 1.1330\n",
            "Epoch 110/500\n",
            "2/2 [==============================] - 0s 25ms/step - loss: 1.3957 - mae: 1.3957 - mse: 2.6772 - val_loss: 0.7577 - val_mae: 0.7577 - val_mse: 1.1240\n",
            "Epoch 111/500\n",
            "2/2 [==============================] - 0s 28ms/step - loss: 1.3896 - mae: 1.3896 - mse: 2.6561 - val_loss: 0.7516 - val_mae: 0.7516 - val_mse: 1.1153\n",
            "Epoch 112/500\n",
            "2/2 [==============================] - 0s 25ms/step - loss: 1.3838 - mae: 1.3838 - mse: 2.6368 - val_loss: 0.7456 - val_mae: 0.7456 - val_mse: 1.1067\n",
            "Epoch 113/500\n",
            "2/2 [==============================] - 0s 32ms/step - loss: 1.3779 - mae: 1.3779 - mse: 2.6169 - val_loss: 0.7396 - val_mae: 0.7396 - val_mse: 1.0983\n",
            "Epoch 114/500\n",
            "2/2 [==============================] - 0s 39ms/step - loss: 1.3721 - mae: 1.3721 - mse: 2.5970 - val_loss: 0.7336 - val_mae: 0.7336 - val_mse: 1.0899\n",
            "Epoch 115/500\n",
            "2/2 [==============================] - 0s 26ms/step - loss: 1.3663 - mae: 1.3663 - mse: 2.5772 - val_loss: 0.7276 - val_mae: 0.7276 - val_mse: 1.0816\n",
            "Epoch 116/500\n",
            "2/2 [==============================] - 0s 28ms/step - loss: 1.3605 - mae: 1.3605 - mse: 2.5585 - val_loss: 0.7215 - val_mae: 0.7215 - val_mse: 1.0733\n",
            "Epoch 117/500\n",
            "2/2 [==============================] - 0s 24ms/step - loss: 1.3549 - mae: 1.3549 - mse: 2.5395 - val_loss: 0.7155 - val_mae: 0.7155 - val_mse: 1.0650\n",
            "Epoch 118/500\n",
            "2/2 [==============================] - 0s 22ms/step - loss: 1.3489 - mae: 1.3489 - mse: 2.5194 - val_loss: 0.7094 - val_mae: 0.7094 - val_mse: 1.0569\n",
            "Epoch 119/500\n",
            "2/2 [==============================] - 0s 26ms/step - loss: 1.3430 - mae: 1.3430 - mse: 2.5005 - val_loss: 0.7033 - val_mae: 0.7033 - val_mse: 1.0488\n",
            "Epoch 120/500\n",
            "2/2 [==============================] - 0s 28ms/step - loss: 1.3372 - mae: 1.3372 - mse: 2.4809 - val_loss: 0.6972 - val_mae: 0.6972 - val_mse: 1.0407\n",
            "Epoch 121/500\n",
            "2/2 [==============================] - 0s 22ms/step - loss: 1.3314 - mae: 1.3314 - mse: 2.4623 - val_loss: 0.6911 - val_mae: 0.6911 - val_mse: 1.0327\n",
            "Epoch 122/500\n",
            "2/2 [==============================] - 0s 41ms/step - loss: 1.3259 - mae: 1.3259 - mse: 2.4434 - val_loss: 0.6850 - val_mae: 0.6850 - val_mse: 1.0248\n",
            "Epoch 123/500\n",
            "2/2 [==============================] - 0s 22ms/step - loss: 1.3196 - mae: 1.3196 - mse: 2.4233 - val_loss: 0.6789 - val_mae: 0.6789 - val_mse: 1.0171\n",
            "Epoch 124/500\n",
            "2/2 [==============================] - 0s 21ms/step - loss: 1.3140 - mae: 1.3140 - mse: 2.4054 - val_loss: 0.6728 - val_mae: 0.6728 - val_mse: 1.0094\n",
            "Epoch 125/500\n",
            "2/2 [==============================] - 0s 24ms/step - loss: 1.3078 - mae: 1.3078 - mse: 2.3857 - val_loss: 0.6668 - val_mae: 0.6668 - val_mse: 1.0018\n",
            "Epoch 126/500\n",
            "2/2 [==============================] - 0s 22ms/step - loss: 1.3023 - mae: 1.3023 - mse: 2.3680 - val_loss: 0.6615 - val_mae: 0.6615 - val_mse: 0.9942\n",
            "Epoch 127/500\n",
            "2/2 [==============================] - 0s 25ms/step - loss: 1.2961 - mae: 1.2961 - mse: 2.3487 - val_loss: 0.6578 - val_mae: 0.6578 - val_mse: 0.9867\n",
            "Epoch 128/500\n",
            "2/2 [==============================] - 0s 22ms/step - loss: 1.2906 - mae: 1.2906 - mse: 2.3313 - val_loss: 0.6543 - val_mae: 0.6543 - val_mse: 0.9792\n",
            "Epoch 129/500\n",
            "2/2 [==============================] - 0s 25ms/step - loss: 1.2845 - mae: 1.2845 - mse: 2.3129 - val_loss: 0.6508 - val_mae: 0.6508 - val_mse: 0.9719\n",
            "Epoch 130/500\n",
            "2/2 [==============================] - 0s 22ms/step - loss: 1.2786 - mae: 1.2786 - mse: 2.2939 - val_loss: 0.6473 - val_mae: 0.6473 - val_mse: 0.9647\n",
            "Epoch 131/500\n",
            "2/2 [==============================] - 0s 27ms/step - loss: 1.2728 - mae: 1.2728 - mse: 2.2760 - val_loss: 0.6449 - val_mae: 0.6449 - val_mse: 0.9575\n",
            "Epoch 132/500\n",
            "2/2 [==============================] - 0s 23ms/step - loss: 1.2670 - mae: 1.2670 - mse: 2.2585 - val_loss: 0.6425 - val_mae: 0.6425 - val_mse: 0.9504\n",
            "Epoch 133/500\n",
            "2/2 [==============================] - 0s 31ms/step - loss: 1.2608 - mae: 1.2608 - mse: 2.2402 - val_loss: 0.6401 - val_mae: 0.6401 - val_mse: 0.9434\n",
            "Epoch 134/500\n",
            "2/2 [==============================] - 0s 28ms/step - loss: 1.2554 - mae: 1.2554 - mse: 2.2227 - val_loss: 0.6377 - val_mae: 0.6377 - val_mse: 0.9364\n",
            "Epoch 135/500\n",
            "2/2 [==============================] - 0s 29ms/step - loss: 1.2494 - mae: 1.2494 - mse: 2.2049 - val_loss: 0.6353 - val_mae: 0.6353 - val_mse: 0.9296\n",
            "Epoch 136/500\n",
            "2/2 [==============================] - 0s 25ms/step - loss: 1.2434 - mae: 1.2434 - mse: 2.1870 - val_loss: 0.6329 - val_mae: 0.6329 - val_mse: 0.9229\n",
            "Epoch 137/500\n",
            "2/2 [==============================] - 0s 23ms/step - loss: 1.2378 - mae: 1.2378 - mse: 2.1703 - val_loss: 0.6306 - val_mae: 0.6306 - val_mse: 0.9163\n",
            "Epoch 138/500\n",
            "2/2 [==============================] - 0s 22ms/step - loss: 1.2317 - mae: 1.2317 - mse: 2.1526 - val_loss: 0.6282 - val_mae: 0.6282 - val_mse: 0.9097\n",
            "Epoch 139/500\n",
            "2/2 [==============================] - 0s 30ms/step - loss: 1.2258 - mae: 1.2258 - mse: 2.1357 - val_loss: 0.6258 - val_mae: 0.6258 - val_mse: 0.9032\n",
            "Epoch 140/500\n",
            "2/2 [==============================] - 0s 24ms/step - loss: 1.2201 - mae: 1.2201 - mse: 2.1183 - val_loss: 0.6234 - val_mae: 0.6234 - val_mse: 0.8968\n",
            "Epoch 141/500\n",
            "2/2 [==============================] - 0s 26ms/step - loss: 1.2143 - mae: 1.2143 - mse: 2.1016 - val_loss: 0.6210 - val_mae: 0.6210 - val_mse: 0.8904\n",
            "Epoch 142/500\n",
            "2/2 [==============================] - 0s 30ms/step - loss: 1.2084 - mae: 1.2084 - mse: 2.0844 - val_loss: 0.6186 - val_mae: 0.6186 - val_mse: 0.8842\n",
            "Epoch 143/500\n",
            "2/2 [==============================] - 0s 27ms/step - loss: 1.2026 - mae: 1.2026 - mse: 2.0665 - val_loss: 0.6163 - val_mae: 0.6163 - val_mse: 0.8780\n",
            "Epoch 144/500\n",
            "2/2 [==============================] - 0s 28ms/step - loss: 1.1969 - mae: 1.1969 - mse: 2.0503 - val_loss: 0.6139 - val_mae: 0.6139 - val_mse: 0.8720\n",
            "Epoch 145/500\n",
            "2/2 [==============================] - 0s 27ms/step - loss: 1.1911 - mae: 1.1911 - mse: 2.0343 - val_loss: 0.6115 - val_mae: 0.6115 - val_mse: 0.8660\n",
            "Epoch 146/500\n",
            "2/2 [==============================] - 0s 28ms/step - loss: 1.1857 - mae: 1.1857 - mse: 2.0178 - val_loss: 0.6091 - val_mae: 0.6091 - val_mse: 0.8600\n",
            "Epoch 147/500\n",
            "2/2 [==============================] - 0s 26ms/step - loss: 1.1803 - mae: 1.1803 - mse: 2.0023 - val_loss: 0.6067 - val_mae: 0.6067 - val_mse: 0.8542\n",
            "Epoch 148/500\n",
            "2/2 [==============================] - 0s 24ms/step - loss: 1.1741 - mae: 1.1741 - mse: 1.9846 - val_loss: 0.6044 - val_mae: 0.6044 - val_mse: 0.8485\n",
            "Epoch 149/500\n",
            "2/2 [==============================] - 0s 34ms/step - loss: 1.1689 - mae: 1.1689 - mse: 1.9693 - val_loss: 0.6020 - val_mae: 0.6020 - val_mse: 0.8429\n",
            "Epoch 150/500\n",
            "2/2 [==============================] - 0s 25ms/step - loss: 1.1634 - mae: 1.1634 - mse: 1.9536 - val_loss: 0.5997 - val_mae: 0.5997 - val_mse: 0.8374\n",
            "Epoch 151/500\n",
            "2/2 [==============================] - 0s 37ms/step - loss: 1.1579 - mae: 1.1579 - mse: 1.9370 - val_loss: 0.5981 - val_mae: 0.5981 - val_mse: 0.8321\n",
            "Epoch 152/500\n",
            "2/2 [==============================] - 0s 28ms/step - loss: 1.1530 - mae: 1.1530 - mse: 1.9232 - val_loss: 0.5964 - val_mae: 0.5964 - val_mse: 0.8269\n",
            "Epoch 153/500\n",
            "2/2 [==============================] - 0s 30ms/step - loss: 1.1475 - mae: 1.1475 - mse: 1.9069 - val_loss: 0.5948 - val_mae: 0.5948 - val_mse: 0.8219\n",
            "Epoch 154/500\n",
            "2/2 [==============================] - 0s 26ms/step - loss: 1.1425 - mae: 1.1425 - mse: 1.8917 - val_loss: 0.5932 - val_mae: 0.5932 - val_mse: 0.8169\n",
            "Epoch 155/500\n",
            "2/2 [==============================] - 0s 26ms/step - loss: 1.1377 - mae: 1.1377 - mse: 1.8777 - val_loss: 0.5916 - val_mae: 0.5916 - val_mse: 0.8120\n",
            "Epoch 156/500\n",
            "2/2 [==============================] - 0s 27ms/step - loss: 1.1327 - mae: 1.1327 - mse: 1.8634 - val_loss: 0.5900 - val_mae: 0.5900 - val_mse: 0.8072\n",
            "Epoch 157/500\n",
            "2/2 [==============================] - 0s 26ms/step - loss: 1.1281 - mae: 1.1281 - mse: 1.8491 - val_loss: 0.5885 - val_mae: 0.5885 - val_mse: 0.8025\n",
            "Epoch 158/500\n",
            "2/2 [==============================] - 0s 28ms/step - loss: 1.1234 - mae: 1.1234 - mse: 1.8346 - val_loss: 0.5869 - val_mae: 0.5869 - val_mse: 0.7980\n",
            "Epoch 159/500\n",
            "2/2 [==============================] - 0s 29ms/step - loss: 1.1187 - mae: 1.1187 - mse: 1.8209 - val_loss: 0.5854 - val_mae: 0.5854 - val_mse: 0.7935\n",
            "Epoch 160/500\n",
            "2/2 [==============================] - 0s 24ms/step - loss: 1.1139 - mae: 1.1139 - mse: 1.8060 - val_loss: 0.5838 - val_mae: 0.5838 - val_mse: 0.7891\n",
            "Epoch 161/500\n",
            "2/2 [==============================] - 0s 27ms/step - loss: 1.1096 - mae: 1.1096 - mse: 1.7934 - val_loss: 0.5822 - val_mae: 0.5822 - val_mse: 0.7847\n",
            "Epoch 162/500\n",
            "2/2 [==============================] - 0s 23ms/step - loss: 1.1050 - mae: 1.1050 - mse: 1.7799 - val_loss: 0.5807 - val_mae: 0.5807 - val_mse: 0.7804\n",
            "Epoch 163/500\n",
            "2/2 [==============================] - 0s 26ms/step - loss: 1.1001 - mae: 1.1001 - mse: 1.7658 - val_loss: 0.5791 - val_mae: 0.5791 - val_mse: 0.7762\n",
            "Epoch 164/500\n",
            "2/2 [==============================] - 0s 26ms/step - loss: 1.0961 - mae: 1.0961 - mse: 1.7532 - val_loss: 0.5777 - val_mae: 0.5777 - val_mse: 0.7720\n",
            "Epoch 165/500\n",
            "2/2 [==============================] - 0s 26ms/step - loss: 1.0917 - mae: 1.0917 - mse: 1.7400 - val_loss: 0.5769 - val_mae: 0.5769 - val_mse: 0.7680\n",
            "Epoch 166/500\n",
            "2/2 [==============================] - 0s 24ms/step - loss: 1.0868 - mae: 1.0868 - mse: 1.7262 - val_loss: 0.5762 - val_mae: 0.5762 - val_mse: 0.7641\n",
            "Epoch 167/500\n",
            "2/2 [==============================] - 0s 28ms/step - loss: 1.0824 - mae: 1.0824 - mse: 1.7138 - val_loss: 0.5755 - val_mae: 0.5755 - val_mse: 0.7604\n",
            "Epoch 168/500\n",
            "2/2 [==============================] - 0s 27ms/step - loss: 1.0780 - mae: 1.0780 - mse: 1.7007 - val_loss: 0.5748 - val_mae: 0.5748 - val_mse: 0.7567\n",
            "Epoch 169/500\n",
            "2/2 [==============================] - 0s 21ms/step - loss: 1.0736 - mae: 1.0736 - mse: 1.6884 - val_loss: 0.5740 - val_mae: 0.5740 - val_mse: 0.7531\n",
            "Epoch 170/500\n",
            "2/2 [==============================] - 0s 31ms/step - loss: 1.0694 - mae: 1.0694 - mse: 1.6765 - val_loss: 0.5733 - val_mae: 0.5733 - val_mse: 0.7495\n",
            "Epoch 171/500\n",
            "2/2 [==============================] - 0s 33ms/step - loss: 1.0651 - mae: 1.0651 - mse: 1.6648 - val_loss: 0.5726 - val_mae: 0.5726 - val_mse: 0.7461\n",
            "Epoch 172/500\n",
            "2/2 [==============================] - 0s 26ms/step - loss: 1.0610 - mae: 1.0610 - mse: 1.6527 - val_loss: 0.5719 - val_mae: 0.5719 - val_mse: 0.7427\n",
            "Epoch 173/500\n",
            "2/2 [==============================] - 0s 30ms/step - loss: 1.0569 - mae: 1.0569 - mse: 1.6409 - val_loss: 0.5712 - val_mae: 0.5712 - val_mse: 0.7393\n",
            "Epoch 174/500\n",
            "2/2 [==============================] - 0s 38ms/step - loss: 1.0530 - mae: 1.0530 - mse: 1.6287 - val_loss: 0.5705 - val_mae: 0.5705 - val_mse: 0.7360\n",
            "Epoch 175/500\n",
            "2/2 [==============================] - 0s 27ms/step - loss: 1.0491 - mae: 1.0491 - mse: 1.6174 - val_loss: 0.5698 - val_mae: 0.5698 - val_mse: 0.7329\n",
            "Epoch 176/500\n",
            "2/2 [==============================] - 0s 24ms/step - loss: 1.0450 - mae: 1.0450 - mse: 1.6061 - val_loss: 0.5691 - val_mae: 0.5691 - val_mse: 0.7298\n",
            "Epoch 177/500\n",
            "2/2 [==============================] - 0s 24ms/step - loss: 1.0406 - mae: 1.0406 - mse: 1.5940 - val_loss: 0.5684 - val_mae: 0.5684 - val_mse: 0.7268\n",
            "Epoch 178/500\n",
            "2/2 [==============================] - 0s 35ms/step - loss: 1.0368 - mae: 1.0368 - mse: 1.5836 - val_loss: 0.5677 - val_mae: 0.5677 - val_mse: 0.7239\n",
            "Epoch 179/500\n",
            "2/2 [==============================] - 0s 24ms/step - loss: 1.0328 - mae: 1.0328 - mse: 1.5724 - val_loss: 0.5670 - val_mae: 0.5670 - val_mse: 0.7210\n",
            "Epoch 180/500\n",
            "2/2 [==============================] - 0s 23ms/step - loss: 1.0291 - mae: 1.0291 - mse: 1.5619 - val_loss: 0.5663 - val_mae: 0.5663 - val_mse: 0.7181\n",
            "Epoch 181/500\n",
            "2/2 [==============================] - 0s 28ms/step - loss: 1.0247 - mae: 1.0247 - mse: 1.5495 - val_loss: 0.5656 - val_mae: 0.5656 - val_mse: 0.7153\n",
            "Epoch 182/500\n",
            "2/2 [==============================] - 0s 23ms/step - loss: 1.0210 - mae: 1.0210 - mse: 1.5395 - val_loss: 0.5649 - val_mae: 0.5649 - val_mse: 0.7126\n",
            "Epoch 183/500\n",
            "2/2 [==============================] - 0s 23ms/step - loss: 1.0167 - mae: 1.0167 - mse: 1.5281 - val_loss: 0.5642 - val_mae: 0.5642 - val_mse: 0.7099\n",
            "Epoch 184/500\n",
            "2/2 [==============================] - 0s 24ms/step - loss: 1.0128 - mae: 1.0128 - mse: 1.5175 - val_loss: 0.5635 - val_mae: 0.5635 - val_mse: 0.7073\n",
            "Epoch 185/500\n",
            "2/2 [==============================] - 0s 26ms/step - loss: 1.0086 - mae: 1.0086 - mse: 1.5065 - val_loss: 0.5628 - val_mae: 0.5628 - val_mse: 0.7047\n",
            "Epoch 186/500\n",
            "2/2 [==============================] - 0s 34ms/step - loss: 1.0050 - mae: 1.0050 - mse: 1.4968 - val_loss: 0.5621 - val_mae: 0.5621 - val_mse: 0.7022\n",
            "Epoch 187/500\n",
            "2/2 [==============================] - 0s 25ms/step - loss: 1.0005 - mae: 1.0005 - mse: 1.4849 - val_loss: 0.5614 - val_mae: 0.5614 - val_mse: 0.6997\n",
            "Epoch 188/500\n",
            "2/2 [==============================] - 0s 24ms/step - loss: 0.9968 - mae: 0.9968 - mse: 1.4755 - val_loss: 0.5607 - val_mae: 0.5607 - val_mse: 0.6972\n",
            "Epoch 189/500\n",
            "2/2 [==============================] - 0s 23ms/step - loss: 0.9925 - mae: 0.9925 - mse: 1.4640 - val_loss: 0.5600 - val_mae: 0.5600 - val_mse: 0.6949\n",
            "Epoch 190/500\n",
            "2/2 [==============================] - 0s 31ms/step - loss: 0.9883 - mae: 0.9883 - mse: 1.4538 - val_loss: 0.5593 - val_mae: 0.5593 - val_mse: 0.6925\n",
            "Epoch 191/500\n",
            "2/2 [==============================] - 0s 30ms/step - loss: 0.9841 - mae: 0.9841 - mse: 1.4427 - val_loss: 0.5586 - val_mae: 0.5586 - val_mse: 0.6902\n",
            "Epoch 192/500\n",
            "2/2 [==============================] - 0s 29ms/step - loss: 0.9801 - mae: 0.9801 - mse: 1.4321 - val_loss: 0.5579 - val_mae: 0.5579 - val_mse: 0.6879\n",
            "Epoch 193/500\n",
            "2/2 [==============================] - 0s 28ms/step - loss: 0.9757 - mae: 0.9757 - mse: 1.4215 - val_loss: 0.5571 - val_mae: 0.5571 - val_mse: 0.6857\n",
            "Epoch 194/500\n",
            "2/2 [==============================] - 0s 25ms/step - loss: 0.9716 - mae: 0.9716 - mse: 1.4112 - val_loss: 0.5564 - val_mae: 0.5564 - val_mse: 0.6835\n",
            "Epoch 195/500\n",
            "2/2 [==============================] - 0s 23ms/step - loss: 0.9674 - mae: 0.9674 - mse: 1.4009 - val_loss: 0.5557 - val_mae: 0.5557 - val_mse: 0.6814\n",
            "Epoch 196/500\n",
            "2/2 [==============================] - 0s 25ms/step - loss: 0.9629 - mae: 0.9629 - mse: 1.3897 - val_loss: 0.5549 - val_mae: 0.5549 - val_mse: 0.6794\n",
            "Epoch 197/500\n",
            "2/2 [==============================] - 0s 25ms/step - loss: 0.9589 - mae: 0.9589 - mse: 1.3798 - val_loss: 0.5542 - val_mae: 0.5542 - val_mse: 0.6774\n",
            "Epoch 198/500\n",
            "2/2 [==============================] - 0s 32ms/step - loss: 0.9547 - mae: 0.9547 - mse: 1.3695 - val_loss: 0.5534 - val_mae: 0.5534 - val_mse: 0.6755\n",
            "Epoch 199/500\n",
            "2/2 [==============================] - 0s 26ms/step - loss: 0.9508 - mae: 0.9508 - mse: 1.3593 - val_loss: 0.5527 - val_mae: 0.5527 - val_mse: 0.6737\n",
            "Epoch 200/500\n",
            "2/2 [==============================] - 0s 24ms/step - loss: 0.9473 - mae: 0.9473 - mse: 1.3499 - val_loss: 0.5520 - val_mae: 0.5520 - val_mse: 0.6719\n",
            "Epoch 201/500\n",
            "2/2 [==============================] - 0s 26ms/step - loss: 0.9437 - mae: 0.9437 - mse: 1.3400 - val_loss: 0.5513 - val_mae: 0.5513 - val_mse: 0.6703\n",
            "Epoch 202/500\n",
            "2/2 [==============================] - 0s 24ms/step - loss: 0.9397 - mae: 0.9397 - mse: 1.3300 - val_loss: 0.5506 - val_mae: 0.5506 - val_mse: 0.6688\n",
            "Epoch 203/500\n",
            "2/2 [==============================] - 0s 26ms/step - loss: 0.9361 - mae: 0.9361 - mse: 1.3209 - val_loss: 0.5500 - val_mae: 0.5500 - val_mse: 0.6673\n",
            "Epoch 204/500\n",
            "2/2 [==============================] - 0s 26ms/step - loss: 0.9326 - mae: 0.9326 - mse: 1.3121 - val_loss: 0.5493 - val_mae: 0.5493 - val_mse: 0.6658\n",
            "Epoch 205/500\n",
            "2/2 [==============================] - 0s 27ms/step - loss: 0.9292 - mae: 0.9292 - mse: 1.3028 - val_loss: 0.5486 - val_mae: 0.5486 - val_mse: 0.6645\n",
            "Epoch 206/500\n",
            "2/2 [==============================] - 0s 23ms/step - loss: 0.9260 - mae: 0.9260 - mse: 1.2937 - val_loss: 0.5479 - val_mae: 0.5479 - val_mse: 0.6631\n",
            "Epoch 207/500\n",
            "2/2 [==============================] - 0s 34ms/step - loss: 0.9226 - mae: 0.9226 - mse: 1.2851 - val_loss: 0.5473 - val_mae: 0.5473 - val_mse: 0.6619\n",
            "Epoch 208/500\n",
            "2/2 [==============================] - 0s 28ms/step - loss: 0.9194 - mae: 0.9194 - mse: 1.2764 - val_loss: 0.5466 - val_mae: 0.5466 - val_mse: 0.6607\n",
            "Epoch 209/500\n",
            "2/2 [==============================] - 0s 22ms/step - loss: 0.9163 - mae: 0.9163 - mse: 1.2684 - val_loss: 0.5468 - val_mae: 0.5468 - val_mse: 0.6595\n",
            "Epoch 210/500\n",
            "2/2 [==============================] - 0s 22ms/step - loss: 0.9131 - mae: 0.9131 - mse: 1.2599 - val_loss: 0.5469 - val_mae: 0.5469 - val_mse: 0.6584\n",
            "Epoch 211/500\n",
            "2/2 [==============================] - 0s 29ms/step - loss: 0.9097 - mae: 0.9097 - mse: 1.2513 - val_loss: 0.5471 - val_mae: 0.5471 - val_mse: 0.6574\n",
            "Epoch 212/500\n",
            "2/2 [==============================] - 0s 24ms/step - loss: 0.9064 - mae: 0.9064 - mse: 1.2429 - val_loss: 0.5472 - val_mae: 0.5472 - val_mse: 0.6564\n",
            "Epoch 213/500\n",
            "2/2 [==============================] - 0s 24ms/step - loss: 0.9032 - mae: 0.9032 - mse: 1.2350 - val_loss: 0.5473 - val_mae: 0.5473 - val_mse: 0.6555\n",
            "Epoch 214/500\n",
            "2/2 [==============================] - 0s 25ms/step - loss: 0.9001 - mae: 0.9001 - mse: 1.2270 - val_loss: 0.5475 - val_mae: 0.5475 - val_mse: 0.6546\n",
            "Epoch 215/500\n",
            "2/2 [==============================] - 0s 28ms/step - loss: 0.8970 - mae: 0.8970 - mse: 1.2188 - val_loss: 0.5480 - val_mae: 0.5480 - val_mse: 0.6538\n",
            "Epoch 216/500\n",
            "2/2 [==============================] - 0s 25ms/step - loss: 0.8937 - mae: 0.8937 - mse: 1.2109 - val_loss: 0.5487 - val_mae: 0.5487 - val_mse: 0.6530\n",
            "Epoch 217/500\n",
            "2/2 [==============================] - 0s 28ms/step - loss: 0.8907 - mae: 0.8907 - mse: 1.2032 - val_loss: 0.5495 - val_mae: 0.5495 - val_mse: 0.6523\n",
            "Epoch 218/500\n",
            "2/2 [==============================] - 0s 23ms/step - loss: 0.8877 - mae: 0.8877 - mse: 1.1956 - val_loss: 0.5503 - val_mae: 0.5503 - val_mse: 0.6516\n",
            "Epoch 219/500\n",
            "2/2 [==============================] - 0s 27ms/step - loss: 0.8846 - mae: 0.8846 - mse: 1.1869 - val_loss: 0.5510 - val_mae: 0.5510 - val_mse: 0.6510\n",
            "Epoch 220/500\n",
            "2/2 [==============================] - 0s 23ms/step - loss: 0.8822 - mae: 0.8822 - mse: 1.1809 - val_loss: 0.5518 - val_mae: 0.5518 - val_mse: 0.6505\n",
            "Epoch 221/500\n",
            "2/2 [==============================] - 0s 24ms/step - loss: 0.8790 - mae: 0.8790 - mse: 1.1729 - val_loss: 0.5525 - val_mae: 0.5525 - val_mse: 0.6500\n",
            "Epoch 222/500\n",
            "2/2 [==============================] - 0s 29ms/step - loss: 0.8762 - mae: 0.8762 - mse: 1.1660 - val_loss: 0.5532 - val_mae: 0.5532 - val_mse: 0.6495\n",
            "Epoch 223/500\n",
            "2/2 [==============================] - 0s 31ms/step - loss: 0.8734 - mae: 0.8734 - mse: 1.1591 - val_loss: 0.5540 - val_mae: 0.5540 - val_mse: 0.6491\n",
            "Epoch 224/500\n",
            "2/2 [==============================] - 0s 25ms/step - loss: 0.8706 - mae: 0.8706 - mse: 1.1517 - val_loss: 0.5547 - val_mae: 0.5547 - val_mse: 0.6487\n",
            "Epoch 225/500\n",
            "2/2 [==============================] - 0s 28ms/step - loss: 0.8678 - mae: 0.8678 - mse: 1.1449 - val_loss: 0.5554 - val_mae: 0.5554 - val_mse: 0.6484\n",
            "Epoch 226/500\n",
            "2/2 [==============================] - 0s 23ms/step - loss: 0.8651 - mae: 0.8651 - mse: 1.1380 - val_loss: 0.5562 - val_mae: 0.5562 - val_mse: 0.6481\n",
            "Epoch 227/500\n",
            "2/2 [==============================] - 0s 27ms/step - loss: 0.8626 - mae: 0.8626 - mse: 1.1314 - val_loss: 0.5569 - val_mae: 0.5569 - val_mse: 0.6479\n",
            "Epoch 228/500\n",
            "2/2 [==============================] - 0s 26ms/step - loss: 0.8594 - mae: 0.8594 - mse: 1.1245 - val_loss: 0.5576 - val_mae: 0.5576 - val_mse: 0.6477\n",
            "Epoch 229/500\n",
            "2/2 [==============================] - 0s 28ms/step - loss: 0.8567 - mae: 0.8567 - mse: 1.1177 - val_loss: 0.5583 - val_mae: 0.5583 - val_mse: 0.6476\n",
            "Epoch 230/500\n",
            "2/2 [==============================] - 0s 26ms/step - loss: 0.8540 - mae: 0.8540 - mse: 1.1112 - val_loss: 0.5590 - val_mae: 0.5590 - val_mse: 0.6475\n",
            "Epoch 231/500\n",
            "2/2 [==============================] - 0s 26ms/step - loss: 0.8511 - mae: 0.8511 - mse: 1.1044 - val_loss: 0.5598 - val_mae: 0.5598 - val_mse: 0.6474\n",
            "Epoch 232/500\n",
            "2/2 [==============================] - 0s 31ms/step - loss: 0.8485 - mae: 0.8485 - mse: 1.0984 - val_loss: 0.5613 - val_mae: 0.5613 - val_mse: 0.6474\n",
            "Epoch 233/500\n",
            "2/2 [==============================] - 0s 29ms/step - loss: 0.8458 - mae: 0.8458 - mse: 1.0917 - val_loss: 0.5630 - val_mae: 0.5630 - val_mse: 0.6474\n",
            "Epoch 234/500\n",
            "2/2 [==============================] - 0s 25ms/step - loss: 0.8427 - mae: 0.8427 - mse: 1.0853 - val_loss: 0.5646 - val_mae: 0.5646 - val_mse: 0.6475\n",
            "Epoch 235/500\n",
            "2/2 [==============================] - 0s 28ms/step - loss: 0.8402 - mae: 0.8402 - mse: 1.0792 - val_loss: 0.5662 - val_mae: 0.5662 - val_mse: 0.6476\n",
            "Epoch 236/500\n",
            "2/2 [==============================] - 0s 23ms/step - loss: 0.8372 - mae: 0.8372 - mse: 1.0722 - val_loss: 0.5678 - val_mae: 0.5678 - val_mse: 0.6478\n",
            "Epoch 237/500\n",
            "2/2 [==============================] - 0s 22ms/step - loss: 0.8344 - mae: 0.8344 - mse: 1.0663 - val_loss: 0.5694 - val_mae: 0.5694 - val_mse: 0.6480\n",
            "Epoch 238/500\n",
            "2/2 [==============================] - 0s 37ms/step - loss: 0.8318 - mae: 0.8318 - mse: 1.0599 - val_loss: 0.5711 - val_mae: 0.5711 - val_mse: 0.6483\n",
            "Epoch 239/500\n",
            "2/2 [==============================] - 0s 45ms/step - loss: 0.8288 - mae: 0.8288 - mse: 1.0539 - val_loss: 0.5727 - val_mae: 0.5727 - val_mse: 0.6486\n",
            "Epoch 240/500\n",
            "2/2 [==============================] - 0s 25ms/step - loss: 0.8262 - mae: 0.8262 - mse: 1.0479 - val_loss: 0.5743 - val_mae: 0.5743 - val_mse: 0.6489\n",
            "Epoch 241/500\n",
            "2/2 [==============================] - 0s 30ms/step - loss: 0.8234 - mae: 0.8234 - mse: 1.0418 - val_loss: 0.5759 - val_mae: 0.5759 - val_mse: 0.6493\n",
            "Epoch 242/500\n",
            "2/2 [==============================] - 0s 23ms/step - loss: 0.8206 - mae: 0.8206 - mse: 1.0360 - val_loss: 0.5775 - val_mae: 0.5775 - val_mse: 0.6497\n",
            "Epoch 243/500\n",
            "2/2 [==============================] - 0s 32ms/step - loss: 0.8177 - mae: 0.8177 - mse: 1.0300 - val_loss: 0.5791 - val_mae: 0.5791 - val_mse: 0.6502\n",
            "Epoch 244/500\n",
            "2/2 [==============================] - 0s 24ms/step - loss: 0.8149 - mae: 0.8149 - mse: 1.0244 - val_loss: 0.5807 - val_mae: 0.5807 - val_mse: 0.6507\n",
            "Epoch 245/500\n",
            "2/2 [==============================] - 0s 26ms/step - loss: 0.8121 - mae: 0.8121 - mse: 1.0187 - val_loss: 0.5823 - val_mae: 0.5823 - val_mse: 0.6513\n",
            "Epoch 246/500\n",
            "2/2 [==============================] - 0s 47ms/step - loss: 0.8094 - mae: 0.8094 - mse: 1.0130 - val_loss: 0.5840 - val_mae: 0.5840 - val_mse: 0.6519\n",
            "Epoch 247/500\n",
            "2/2 [==============================] - 0s 37ms/step - loss: 0.8064 - mae: 0.8064 - mse: 1.0066 - val_loss: 0.5856 - val_mae: 0.5856 - val_mse: 0.6525\n",
            "Epoch 248/500\n",
            "2/2 [==============================] - 0s 28ms/step - loss: 0.8041 - mae: 0.8041 - mse: 1.0011 - val_loss: 0.5873 - val_mae: 0.5873 - val_mse: 0.6532\n",
            "Epoch 249/500\n",
            "2/2 [==============================] - 0s 24ms/step - loss: 0.8015 - mae: 0.8015 - mse: 0.9956 - val_loss: 0.5889 - val_mae: 0.5889 - val_mse: 0.6540\n",
            "Epoch 250/500\n",
            "2/2 [==============================] - 0s 32ms/step - loss: 0.7990 - mae: 0.7990 - mse: 0.9893 - val_loss: 0.5905 - val_mae: 0.5905 - val_mse: 0.6548\n",
            "Epoch 251/500\n",
            "2/2 [==============================] - 0s 24ms/step - loss: 0.7965 - mae: 0.7965 - mse: 0.9847 - val_loss: 0.5920 - val_mae: 0.5920 - val_mse: 0.6556\n",
            "Epoch 252/500\n",
            "2/2 [==============================] - 0s 30ms/step - loss: 0.7944 - mae: 0.7944 - mse: 0.9795 - val_loss: 0.5936 - val_mae: 0.5936 - val_mse: 0.6564\n",
            "Epoch 253/500\n",
            "2/2 [==============================] - 0s 25ms/step - loss: 0.7923 - mae: 0.7923 - mse: 0.9745 - val_loss: 0.5952 - val_mae: 0.5952 - val_mse: 0.6573\n",
            "Epoch 254/500\n",
            "2/2 [==============================] - 0s 27ms/step - loss: 0.7898 - mae: 0.7898 - mse: 0.9696 - val_loss: 0.5967 - val_mae: 0.5967 - val_mse: 0.6582\n",
            "Epoch 255/500\n",
            "2/2 [==============================] - 0s 27ms/step - loss: 0.7876 - mae: 0.7876 - mse: 0.9646 - val_loss: 0.5982 - val_mae: 0.5982 - val_mse: 0.6591\n",
            "Epoch 256/500\n",
            "2/2 [==============================] - 0s 27ms/step - loss: 0.7856 - mae: 0.7856 - mse: 0.9599 - val_loss: 0.5996 - val_mae: 0.5996 - val_mse: 0.6601\n",
            "Epoch 257/500\n",
            "2/2 [==============================] - 0s 29ms/step - loss: 0.7837 - mae: 0.7837 - mse: 0.9555 - val_loss: 0.6010 - val_mae: 0.6010 - val_mse: 0.6610\n",
            "Epoch 258/500\n",
            "2/2 [==============================] - 0s 30ms/step - loss: 0.7817 - mae: 0.7817 - mse: 0.9509 - val_loss: 0.6023 - val_mae: 0.6023 - val_mse: 0.6619\n",
            "Epoch 259/500\n",
            "2/2 [==============================] - 0s 30ms/step - loss: 0.7799 - mae: 0.7799 - mse: 0.9470 - val_loss: 0.6040 - val_mae: 0.6040 - val_mse: 0.6629\n",
            "Epoch 260/500\n",
            "2/2 [==============================] - 0s 30ms/step - loss: 0.7784 - mae: 0.7784 - mse: 0.9431 - val_loss: 0.6061 - val_mae: 0.6061 - val_mse: 0.6638\n",
            "Epoch 261/500\n",
            "2/2 [==============================] - 0s 28ms/step - loss: 0.7766 - mae: 0.7766 - mse: 0.9385 - val_loss: 0.6082 - val_mae: 0.6082 - val_mse: 0.6648\n",
            "Epoch 262/500\n",
            "2/2 [==============================] - 0s 32ms/step - loss: 0.7752 - mae: 0.7752 - mse: 0.9350 - val_loss: 0.6103 - val_mae: 0.6103 - val_mse: 0.6659\n",
            "Epoch 263/500\n",
            "2/2 [==============================] - 0s 27ms/step - loss: 0.7737 - mae: 0.7737 - mse: 0.9311 - val_loss: 0.6123 - val_mae: 0.6123 - val_mse: 0.6669\n",
            "Epoch 264/500\n",
            "2/2 [==============================] - 0s 24ms/step - loss: 0.7721 - mae: 0.7721 - mse: 0.9273 - val_loss: 0.6143 - val_mae: 0.6143 - val_mse: 0.6680\n",
            "Epoch 265/500\n",
            "2/2 [==============================] - 0s 32ms/step - loss: 0.7705 - mae: 0.7705 - mse: 0.9234 - val_loss: 0.6163 - val_mae: 0.6163 - val_mse: 0.6690\n",
            "Epoch 266/500\n",
            "2/2 [==============================] - 0s 27ms/step - loss: 0.7691 - mae: 0.7691 - mse: 0.9204 - val_loss: 0.6182 - val_mae: 0.6182 - val_mse: 0.6701\n",
            "Epoch 267/500\n",
            "2/2 [==============================] - 0s 29ms/step - loss: 0.7675 - mae: 0.7675 - mse: 0.9164 - val_loss: 0.6201 - val_mae: 0.6201 - val_mse: 0.6711\n",
            "Epoch 268/500\n",
            "2/2 [==============================] - 0s 27ms/step - loss: 0.7662 - mae: 0.7662 - mse: 0.9132 - val_loss: 0.6220 - val_mae: 0.6220 - val_mse: 0.6722\n",
            "Epoch 269/500\n",
            "2/2 [==============================] - 0s 26ms/step - loss: 0.7644 - mae: 0.7644 - mse: 0.9097 - val_loss: 0.6239 - val_mae: 0.6239 - val_mse: 0.6733\n",
            "Epoch 270/500\n",
            "2/2 [==============================] - 0s 26ms/step - loss: 0.7632 - mae: 0.7632 - mse: 0.9063 - val_loss: 0.6258 - val_mae: 0.6258 - val_mse: 0.6745\n",
            "Epoch 271/500\n",
            "2/2 [==============================] - 0s 29ms/step - loss: 0.7616 - mae: 0.7616 - mse: 0.9028 - val_loss: 0.6277 - val_mae: 0.6277 - val_mse: 0.6756\n",
            "Epoch 272/500\n",
            "2/2 [==============================] - 0s 26ms/step - loss: 0.7602 - mae: 0.7602 - mse: 0.8997 - val_loss: 0.6296 - val_mae: 0.6296 - val_mse: 0.6768\n",
            "Epoch 273/500\n",
            "2/2 [==============================] - 0s 29ms/step - loss: 0.7588 - mae: 0.7588 - mse: 0.8967 - val_loss: 0.6315 - val_mae: 0.6315 - val_mse: 0.6781\n",
            "Epoch 274/500\n",
            "2/2 [==============================] - 0s 25ms/step - loss: 0.7575 - mae: 0.7575 - mse: 0.8938 - val_loss: 0.6334 - val_mae: 0.6334 - val_mse: 0.6793\n",
            "Epoch 275/500\n",
            "2/2 [==============================] - 0s 29ms/step - loss: 0.7557 - mae: 0.7557 - mse: 0.8899 - val_loss: 0.6352 - val_mae: 0.6352 - val_mse: 0.6805\n",
            "Epoch 276/500\n",
            "2/2 [==============================] - 0s 25ms/step - loss: 0.7545 - mae: 0.7545 - mse: 0.8870 - val_loss: 0.6371 - val_mae: 0.6371 - val_mse: 0.6817\n",
            "Epoch 277/500\n",
            "2/2 [==============================] - 0s 47ms/step - loss: 0.7530 - mae: 0.7530 - mse: 0.8837 - val_loss: 0.6389 - val_mae: 0.6389 - val_mse: 0.6830\n",
            "Epoch 278/500\n",
            "2/2 [==============================] - 0s 22ms/step - loss: 0.7516 - mae: 0.7516 - mse: 0.8810 - val_loss: 0.6407 - val_mae: 0.6407 - val_mse: 0.6843\n",
            "Epoch 279/500\n",
            "2/2 [==============================] - 0s 30ms/step - loss: 0.7501 - mae: 0.7501 - mse: 0.8779 - val_loss: 0.6426 - val_mae: 0.6426 - val_mse: 0.6856\n",
            "Epoch 280/500\n",
            "2/2 [==============================] - 0s 24ms/step - loss: 0.7489 - mae: 0.7489 - mse: 0.8750 - val_loss: 0.6444 - val_mae: 0.6444 - val_mse: 0.6870\n",
            "Epoch 281/500\n",
            "2/2 [==============================] - 0s 25ms/step - loss: 0.7477 - mae: 0.7477 - mse: 0.8722 - val_loss: 0.6462 - val_mae: 0.6462 - val_mse: 0.6883\n",
            "Epoch 282/500\n",
            "2/2 [==============================] - 0s 36ms/step - loss: 0.7465 - mae: 0.7465 - mse: 0.8695 - val_loss: 0.6480 - val_mae: 0.6480 - val_mse: 0.6896\n",
            "Epoch 283/500\n",
            "2/2 [==============================] - 0s 27ms/step - loss: 0.7453 - mae: 0.7453 - mse: 0.8666 - val_loss: 0.6497 - val_mae: 0.6497 - val_mse: 0.6909\n",
            "Epoch 284/500\n",
            "2/2 [==============================] - 0s 24ms/step - loss: 0.7441 - mae: 0.7441 - mse: 0.8639 - val_loss: 0.6514 - val_mae: 0.6514 - val_mse: 0.6923\n",
            "Epoch 285/500\n",
            "2/2 [==============================] - 0s 27ms/step - loss: 0.7432 - mae: 0.7432 - mse: 0.8613 - val_loss: 0.6532 - val_mae: 0.6532 - val_mse: 0.6936\n",
            "Epoch 286/500\n",
            "2/2 [==============================] - 0s 38ms/step - loss: 0.7421 - mae: 0.7421 - mse: 0.8588 - val_loss: 0.6548 - val_mae: 0.6548 - val_mse: 0.6949\n",
            "Epoch 287/500\n",
            "2/2 [==============================] - 0s 23ms/step - loss: 0.7408 - mae: 0.7408 - mse: 0.8561 - val_loss: 0.6564 - val_mae: 0.6564 - val_mse: 0.6962\n",
            "Epoch 288/500\n",
            "2/2 [==============================] - 0s 27ms/step - loss: 0.7400 - mae: 0.7400 - mse: 0.8541 - val_loss: 0.6579 - val_mae: 0.6579 - val_mse: 0.6974\n",
            "Epoch 289/500\n",
            "2/2 [==============================] - 0s 28ms/step - loss: 0.7392 - mae: 0.7392 - mse: 0.8520 - val_loss: 0.6593 - val_mae: 0.6593 - val_mse: 0.6986\n",
            "Epoch 290/500\n",
            "2/2 [==============================] - 0s 23ms/step - loss: 0.7384 - mae: 0.7384 - mse: 0.8494 - val_loss: 0.6607 - val_mae: 0.6607 - val_mse: 0.6997\n",
            "Epoch 291/500\n",
            "2/2 [==============================] - 0s 31ms/step - loss: 0.7378 - mae: 0.7378 - mse: 0.8478 - val_loss: 0.6620 - val_mae: 0.6620 - val_mse: 0.7009\n",
            "Epoch 292/500\n",
            "2/2 [==============================] - 0s 26ms/step - loss: 0.7374 - mae: 0.7374 - mse: 0.8458 - val_loss: 0.6633 - val_mae: 0.6633 - val_mse: 0.7020\n",
            "Epoch 293/500\n",
            "2/2 [==============================] - 0s 24ms/step - loss: 0.7367 - mae: 0.7367 - mse: 0.8441 - val_loss: 0.6645 - val_mae: 0.6645 - val_mse: 0.7030\n",
            "Epoch 294/500\n",
            "2/2 [==============================] - 0s 23ms/step - loss: 0.7361 - mae: 0.7361 - mse: 0.8422 - val_loss: 0.6657 - val_mae: 0.6657 - val_mse: 0.7040\n",
            "Epoch 295/500\n",
            "2/2 [==============================] - 0s 26ms/step - loss: 0.7356 - mae: 0.7356 - mse: 0.8406 - val_loss: 0.6669 - val_mae: 0.6669 - val_mse: 0.7051\n",
            "Epoch 296/500\n",
            "2/2 [==============================] - 0s 26ms/step - loss: 0.7350 - mae: 0.7350 - mse: 0.8389 - val_loss: 0.6680 - val_mae: 0.6680 - val_mse: 0.7061\n",
            "Epoch 297/500\n",
            "2/2 [==============================] - 0s 28ms/step - loss: 0.7345 - mae: 0.7345 - mse: 0.8371 - val_loss: 0.6693 - val_mae: 0.6693 - val_mse: 0.7072\n",
            "Epoch 298/500\n",
            "2/2 [==============================] - 0s 34ms/step - loss: 0.7340 - mae: 0.7340 - mse: 0.8357 - val_loss: 0.6706 - val_mae: 0.6706 - val_mse: 0.7084\n",
            "Epoch 299/500\n",
            "2/2 [==============================] - 0s 25ms/step - loss: 0.7333 - mae: 0.7333 - mse: 0.8339 - val_loss: 0.6719 - val_mae: 0.6719 - val_mse: 0.7095\n",
            "Epoch 300/500\n",
            "2/2 [==============================] - 0s 33ms/step - loss: 0.7329 - mae: 0.7329 - mse: 0.8324 - val_loss: 0.6732 - val_mae: 0.6732 - val_mse: 0.7107\n",
            "Epoch 301/500\n",
            "2/2 [==============================] - 0s 32ms/step - loss: 0.7323 - mae: 0.7323 - mse: 0.8306 - val_loss: 0.6744 - val_mae: 0.6744 - val_mse: 0.7119\n",
            "Epoch 302/500\n",
            "2/2 [==============================] - 0s 33ms/step - loss: 0.7316 - mae: 0.7316 - mse: 0.8289 - val_loss: 0.6756 - val_mae: 0.6756 - val_mse: 0.7130\n",
            "Epoch 303/500\n",
            "2/2 [==============================] - 0s 26ms/step - loss: 0.7311 - mae: 0.7311 - mse: 0.8272 - val_loss: 0.6768 - val_mae: 0.6768 - val_mse: 0.7141\n",
            "Epoch 304/500\n",
            "2/2 [==============================] - 0s 26ms/step - loss: 0.7305 - mae: 0.7305 - mse: 0.8255 - val_loss: 0.6781 - val_mae: 0.6781 - val_mse: 0.7153\n",
            "Epoch 305/500\n",
            "2/2 [==============================] - 0s 27ms/step - loss: 0.7299 - mae: 0.7299 - mse: 0.8239 - val_loss: 0.6793 - val_mae: 0.6793 - val_mse: 0.7165\n",
            "Epoch 306/500\n",
            "2/2 [==============================] - 0s 26ms/step - loss: 0.7297 - mae: 0.7297 - mse: 0.8225 - val_loss: 0.6806 - val_mae: 0.6806 - val_mse: 0.7177\n",
            "Epoch 307/500\n",
            "2/2 [==============================] - 0s 26ms/step - loss: 0.7290 - mae: 0.7290 - mse: 0.8206 - val_loss: 0.6818 - val_mae: 0.6818 - val_mse: 0.7188\n",
            "Epoch 308/500\n",
            "2/2 [==============================] - 0s 28ms/step - loss: 0.7288 - mae: 0.7288 - mse: 0.8194 - val_loss: 0.6830 - val_mae: 0.6830 - val_mse: 0.7200\n",
            "Epoch 309/500\n",
            "2/2 [==============================] - 0s 29ms/step - loss: 0.7284 - mae: 0.7284 - mse: 0.8181 - val_loss: 0.6842 - val_mae: 0.6842 - val_mse: 0.7212\n",
            "Epoch 310/500\n",
            "2/2 [==============================] - 0s 27ms/step - loss: 0.7279 - mae: 0.7279 - mse: 0.8163 - val_loss: 0.6853 - val_mae: 0.6853 - val_mse: 0.7223\n",
            "Epoch 311/500\n",
            "2/2 [==============================] - 0s 29ms/step - loss: 0.7277 - mae: 0.7277 - mse: 0.8151 - val_loss: 0.6865 - val_mae: 0.6865 - val_mse: 0.7234\n",
            "Epoch 312/500\n",
            "2/2 [==============================] - 0s 38ms/step - loss: 0.7272 - mae: 0.7272 - mse: 0.8137 - val_loss: 0.6876 - val_mae: 0.6876 - val_mse: 0.7245\n",
            "Epoch 313/500\n",
            "2/2 [==============================] - 0s 26ms/step - loss: 0.7269 - mae: 0.7269 - mse: 0.8123 - val_loss: 0.6887 - val_mae: 0.6887 - val_mse: 0.7256\n",
            "Epoch 314/500\n",
            "2/2 [==============================] - 0s 34ms/step - loss: 0.7266 - mae: 0.7266 - mse: 0.8109 - val_loss: 0.6898 - val_mae: 0.6898 - val_mse: 0.7268\n",
            "Epoch 315/500\n",
            "2/2 [==============================] - 0s 24ms/step - loss: 0.7262 - mae: 0.7262 - mse: 0.8096 - val_loss: 0.6908 - val_mae: 0.6908 - val_mse: 0.7278\n",
            "Epoch 316/500\n",
            "2/2 [==============================] - 0s 28ms/step - loss: 0.7259 - mae: 0.7259 - mse: 0.8085 - val_loss: 0.6919 - val_mae: 0.6919 - val_mse: 0.7289\n",
            "Epoch 317/500\n",
            "2/2 [==============================] - 0s 28ms/step - loss: 0.7256 - mae: 0.7256 - mse: 0.8071 - val_loss: 0.6929 - val_mae: 0.6929 - val_mse: 0.7299\n",
            "Epoch 318/500\n",
            "2/2 [==============================] - 0s 29ms/step - loss: 0.7253 - mae: 0.7253 - mse: 0.8060 - val_loss: 0.6938 - val_mae: 0.6938 - val_mse: 0.7309\n",
            "Epoch 319/500\n",
            "2/2 [==============================] - 0s 26ms/step - loss: 0.7251 - mae: 0.7251 - mse: 0.8049 - val_loss: 0.6949 - val_mae: 0.6949 - val_mse: 0.7320\n",
            "Epoch 320/500\n",
            "2/2 [==============================] - 0s 31ms/step - loss: 0.7249 - mae: 0.7249 - mse: 0.8040 - val_loss: 0.6959 - val_mae: 0.6959 - val_mse: 0.7331\n",
            "Epoch 321/500\n",
            "2/2 [==============================] - 0s 25ms/step - loss: 0.7247 - mae: 0.7247 - mse: 0.8028 - val_loss: 0.6967 - val_mae: 0.6967 - val_mse: 0.7340\n",
            "Epoch 322/500\n",
            "2/2 [==============================] - 0s 30ms/step - loss: 0.7243 - mae: 0.7243 - mse: 0.8017 - val_loss: 0.6975 - val_mae: 0.6975 - val_mse: 0.7348\n",
            "Epoch 323/500\n",
            "2/2 [==============================] - 0s 33ms/step - loss: 0.7241 - mae: 0.7241 - mse: 0.8009 - val_loss: 0.6982 - val_mae: 0.6982 - val_mse: 0.7356\n",
            "Epoch 324/500\n",
            "2/2 [==============================] - 0s 28ms/step - loss: 0.7239 - mae: 0.7239 - mse: 0.8001 - val_loss: 0.6991 - val_mae: 0.6991 - val_mse: 0.7365\n",
            "Epoch 325/500\n",
            "2/2 [==============================] - 0s 23ms/step - loss: 0.7238 - mae: 0.7238 - mse: 0.7992 - val_loss: 0.6999 - val_mae: 0.6999 - val_mse: 0.7374\n",
            "Epoch 326/500\n",
            "2/2 [==============================] - 0s 26ms/step - loss: 0.7235 - mae: 0.7235 - mse: 0.7982 - val_loss: 0.7006 - val_mae: 0.7006 - val_mse: 0.7382\n",
            "Epoch 327/500\n",
            "2/2 [==============================] - 0s 31ms/step - loss: 0.7233 - mae: 0.7233 - mse: 0.7974 - val_loss: 0.7014 - val_mae: 0.7014 - val_mse: 0.7390\n",
            "Epoch 328/500\n",
            "2/2 [==============================] - 0s 27ms/step - loss: 0.7230 - mae: 0.7230 - mse: 0.7964 - val_loss: 0.7022 - val_mae: 0.7022 - val_mse: 0.7399\n",
            "Epoch 329/500\n",
            "2/2 [==============================] - 0s 28ms/step - loss: 0.7228 - mae: 0.7228 - mse: 0.7956 - val_loss: 0.7030 - val_mae: 0.7030 - val_mse: 0.7409\n",
            "Epoch 330/500\n",
            "2/2 [==============================] - 0s 29ms/step - loss: 0.7225 - mae: 0.7225 - mse: 0.7946 - val_loss: 0.7040 - val_mae: 0.7040 - val_mse: 0.7419\n",
            "Epoch 331/500\n",
            "2/2 [==============================] - 0s 28ms/step - loss: 0.7224 - mae: 0.7224 - mse: 0.7937 - val_loss: 0.7049 - val_mae: 0.7049 - val_mse: 0.7430\n",
            "Epoch 332/500\n",
            "2/2 [==============================] - 0s 32ms/step - loss: 0.7222 - mae: 0.7222 - mse: 0.7928 - val_loss: 0.7059 - val_mae: 0.7059 - val_mse: 0.7441\n",
            "Epoch 333/500\n",
            "2/2 [==============================] - 0s 28ms/step - loss: 0.7218 - mae: 0.7218 - mse: 0.7918 - val_loss: 0.7067 - val_mae: 0.7067 - val_mse: 0.7450\n",
            "Epoch 334/500\n",
            "2/2 [==============================] - 0s 29ms/step - loss: 0.7217 - mae: 0.7217 - mse: 0.7909 - val_loss: 0.7076 - val_mae: 0.7076 - val_mse: 0.7460\n",
            "Epoch 335/500\n",
            "2/2 [==============================] - 0s 33ms/step - loss: 0.7214 - mae: 0.7214 - mse: 0.7901 - val_loss: 0.7084 - val_mae: 0.7084 - val_mse: 0.7469\n",
            "Epoch 336/500\n",
            "2/2 [==============================] - 0s 48ms/step - loss: 0.7212 - mae: 0.7212 - mse: 0.7891 - val_loss: 0.7092 - val_mae: 0.7092 - val_mse: 0.7478\n",
            "Epoch 337/500\n",
            "2/2 [==============================] - 0s 37ms/step - loss: 0.7210 - mae: 0.7210 - mse: 0.7883 - val_loss: 0.7100 - val_mae: 0.7100 - val_mse: 0.7488\n",
            "Epoch 338/500\n",
            "2/2 [==============================] - 0s 36ms/step - loss: 0.7209 - mae: 0.7209 - mse: 0.7877 - val_loss: 0.7108 - val_mae: 0.7108 - val_mse: 0.7497\n",
            "Epoch 339/500\n",
            "2/2 [==============================] - 0s 31ms/step - loss: 0.7207 - mae: 0.7207 - mse: 0.7868 - val_loss: 0.7114 - val_mae: 0.7114 - val_mse: 0.7504\n",
            "Epoch 340/500\n",
            "2/2 [==============================] - 0s 30ms/step - loss: 0.7205 - mae: 0.7205 - mse: 0.7862 - val_loss: 0.7119 - val_mae: 0.7119 - val_mse: 0.7510\n",
            "Epoch 341/500\n",
            "2/2 [==============================] - 0s 27ms/step - loss: 0.7205 - mae: 0.7205 - mse: 0.7856 - val_loss: 0.7125 - val_mae: 0.7125 - val_mse: 0.7517\n",
            "Epoch 342/500\n",
            "2/2 [==============================] - 0s 28ms/step - loss: 0.7204 - mae: 0.7204 - mse: 0.7851 - val_loss: 0.7131 - val_mae: 0.7131 - val_mse: 0.7524\n",
            "Epoch 343/500\n",
            "2/2 [==============================] - 0s 31ms/step - loss: 0.7202 - mae: 0.7202 - mse: 0.7845 - val_loss: 0.7136 - val_mae: 0.7136 - val_mse: 0.7529\n",
            "Epoch 344/500\n",
            "2/2 [==============================] - 0s 30ms/step - loss: 0.7202 - mae: 0.7202 - mse: 0.7841 - val_loss: 0.7141 - val_mae: 0.7141 - val_mse: 0.7535\n",
            "Epoch 345/500\n",
            "2/2 [==============================] - 0s 30ms/step - loss: 0.7201 - mae: 0.7201 - mse: 0.7836 - val_loss: 0.7145 - val_mae: 0.7145 - val_mse: 0.7541\n",
            "Epoch 346/500\n",
            "2/2 [==============================] - 0s 28ms/step - loss: 0.7200 - mae: 0.7200 - mse: 0.7832 - val_loss: 0.7149 - val_mae: 0.7149 - val_mse: 0.7546\n",
            "Epoch 347/500\n",
            "2/2 [==============================] - 0s 29ms/step - loss: 0.7200 - mae: 0.7200 - mse: 0.7827 - val_loss: 0.7153 - val_mae: 0.7153 - val_mse: 0.7551\n",
            "Epoch 348/500\n",
            "2/2 [==============================] - 0s 29ms/step - loss: 0.7199 - mae: 0.7199 - mse: 0.7823 - val_loss: 0.7158 - val_mae: 0.7158 - val_mse: 0.7556\n",
            "Epoch 349/500\n",
            "2/2 [==============================] - 0s 30ms/step - loss: 0.7198 - mae: 0.7198 - mse: 0.7818 - val_loss: 0.7163 - val_mae: 0.7163 - val_mse: 0.7562\n",
            "Epoch 350/500\n",
            "2/2 [==============================] - 0s 31ms/step - loss: 0.7197 - mae: 0.7197 - mse: 0.7814 - val_loss: 0.7168 - val_mae: 0.7168 - val_mse: 0.7568\n",
            "Epoch 351/500\n",
            "2/2 [==============================] - 0s 29ms/step - loss: 0.7197 - mae: 0.7197 - mse: 0.7809 - val_loss: 0.7175 - val_mae: 0.7175 - val_mse: 0.7576\n",
            "Epoch 352/500\n",
            "2/2 [==============================] - 0s 29ms/step - loss: 0.7196 - mae: 0.7196 - mse: 0.7803 - val_loss: 0.7180 - val_mae: 0.7180 - val_mse: 0.7583\n",
            "Epoch 353/500\n",
            "2/2 [==============================] - 0s 32ms/step - loss: 0.7194 - mae: 0.7194 - mse: 0.7798 - val_loss: 0.7185 - val_mae: 0.7185 - val_mse: 0.7588\n",
            "Epoch 354/500\n",
            "2/2 [==============================] - 0s 32ms/step - loss: 0.7193 - mae: 0.7193 - mse: 0.7793 - val_loss: 0.7190 - val_mae: 0.7190 - val_mse: 0.7594\n",
            "Epoch 355/500\n",
            "2/2 [==============================] - 0s 30ms/step - loss: 0.7193 - mae: 0.7193 - mse: 0.7788 - val_loss: 0.7195 - val_mae: 0.7195 - val_mse: 0.7601\n",
            "Epoch 356/500\n",
            "2/2 [==============================] - 0s 28ms/step - loss: 0.7191 - mae: 0.7191 - mse: 0.7783 - val_loss: 0.7200 - val_mae: 0.7200 - val_mse: 0.7607\n",
            "Epoch 357/500\n",
            "2/2 [==============================] - 0s 48ms/step - loss: 0.7191 - mae: 0.7191 - mse: 0.7778 - val_loss: 0.7207 - val_mae: 0.7207 - val_mse: 0.7615\n",
            "Epoch 358/500\n",
            "2/2 [==============================] - 0s 29ms/step - loss: 0.7190 - mae: 0.7190 - mse: 0.7773 - val_loss: 0.7213 - val_mae: 0.7213 - val_mse: 0.7623\n",
            "Epoch 359/500\n",
            "2/2 [==============================] - 0s 29ms/step - loss: 0.7190 - mae: 0.7190 - mse: 0.7768 - val_loss: 0.7219 - val_mae: 0.7219 - val_mse: 0.7630\n",
            "Epoch 360/500\n",
            "2/2 [==============================] - 0s 28ms/step - loss: 0.7188 - mae: 0.7188 - mse: 0.7762 - val_loss: 0.7223 - val_mae: 0.7223 - val_mse: 0.7635\n",
            "Epoch 361/500\n",
            "2/2 [==============================] - 0s 33ms/step - loss: 0.7188 - mae: 0.7188 - mse: 0.7759 - val_loss: 0.7228 - val_mae: 0.7228 - val_mse: 0.7641\n",
            "Epoch 362/500\n",
            "2/2 [==============================] - 0s 31ms/step - loss: 0.7186 - mae: 0.7186 - mse: 0.7754 - val_loss: 0.7232 - val_mae: 0.7232 - val_mse: 0.7646\n",
            "Epoch 363/500\n",
            "2/2 [==============================] - 0s 29ms/step - loss: 0.7186 - mae: 0.7186 - mse: 0.7750 - val_loss: 0.7237 - val_mae: 0.7237 - val_mse: 0.7652\n",
            "Epoch 364/500\n",
            "2/2 [==============================] - 0s 31ms/step - loss: 0.7185 - mae: 0.7185 - mse: 0.7746 - val_loss: 0.7242 - val_mae: 0.7242 - val_mse: 0.7658\n",
            "Epoch 365/500\n",
            "2/2 [==============================] - 0s 29ms/step - loss: 0.7184 - mae: 0.7184 - mse: 0.7741 - val_loss: 0.7246 - val_mae: 0.7246 - val_mse: 0.7664\n",
            "Epoch 366/500\n",
            "2/2 [==============================] - 0s 33ms/step - loss: 0.7184 - mae: 0.7184 - mse: 0.7737 - val_loss: 0.7251 - val_mae: 0.7251 - val_mse: 0.7670\n",
            "Epoch 367/500\n",
            "2/2 [==============================] - 0s 30ms/step - loss: 0.7183 - mae: 0.7183 - mse: 0.7733 - val_loss: 0.7256 - val_mae: 0.7256 - val_mse: 0.7675\n",
            "Epoch 368/500\n",
            "2/2 [==============================] - 0s 32ms/step - loss: 0.7182 - mae: 0.7182 - mse: 0.7729 - val_loss: 0.7260 - val_mae: 0.7260 - val_mse: 0.7681\n",
            "Epoch 369/500\n",
            "2/2 [==============================] - 0s 26ms/step - loss: 0.7181 - mae: 0.7181 - mse: 0.7725 - val_loss: 0.7265 - val_mae: 0.7265 - val_mse: 0.7687\n",
            "Epoch 370/500\n",
            "2/2 [==============================] - 0s 34ms/step - loss: 0.7181 - mae: 0.7181 - mse: 0.7722 - val_loss: 0.7270 - val_mae: 0.7270 - val_mse: 0.7693\n",
            "Epoch 371/500\n",
            "2/2 [==============================] - 0s 25ms/step - loss: 0.7180 - mae: 0.7180 - mse: 0.7717 - val_loss: 0.7275 - val_mae: 0.7275 - val_mse: 0.7699\n",
            "Epoch 372/500\n",
            "2/2 [==============================] - 0s 29ms/step - loss: 0.7179 - mae: 0.7179 - mse: 0.7713 - val_loss: 0.7279 - val_mae: 0.7279 - val_mse: 0.7704\n",
            "Epoch 373/500\n",
            "2/2 [==============================] - 0s 29ms/step - loss: 0.7178 - mae: 0.7178 - mse: 0.7709 - val_loss: 0.7283 - val_mae: 0.7283 - val_mse: 0.7710\n",
            "Epoch 374/500\n",
            "2/2 [==============================] - 0s 29ms/step - loss: 0.7177 - mae: 0.7177 - mse: 0.7706 - val_loss: 0.7288 - val_mae: 0.7288 - val_mse: 0.7716\n",
            "Epoch 375/500\n",
            "2/2 [==============================] - 0s 30ms/step - loss: 0.7177 - mae: 0.7177 - mse: 0.7702 - val_loss: 0.7293 - val_mae: 0.7293 - val_mse: 0.7723\n",
            "Epoch 376/500\n",
            "2/2 [==============================] - 0s 27ms/step - loss: 0.7175 - mae: 0.7175 - mse: 0.7697 - val_loss: 0.7297 - val_mae: 0.7297 - val_mse: 0.7728\n",
            "Epoch 377/500\n",
            "2/2 [==============================] - 0s 25ms/step - loss: 0.7176 - mae: 0.7176 - mse: 0.7694 - val_loss: 0.7302 - val_mae: 0.7302 - val_mse: 0.7734\n",
            "Epoch 378/500\n",
            "2/2 [==============================] - 0s 27ms/step - loss: 0.7175 - mae: 0.7175 - mse: 0.7690 - val_loss: 0.7306 - val_mae: 0.7306 - val_mse: 0.7739\n",
            "Epoch 379/500\n",
            "2/2 [==============================] - 0s 27ms/step - loss: 0.7174 - mae: 0.7174 - mse: 0.7687 - val_loss: 0.7309 - val_mae: 0.7309 - val_mse: 0.7743\n",
            "Epoch 380/500\n",
            "2/2 [==============================] - 0s 31ms/step - loss: 0.7173 - mae: 0.7173 - mse: 0.7683 - val_loss: 0.7313 - val_mae: 0.7313 - val_mse: 0.7748\n",
            "Epoch 381/500\n",
            "2/2 [==============================] - 0s 35ms/step - loss: 0.7173 - mae: 0.7173 - mse: 0.7681 - val_loss: 0.7317 - val_mae: 0.7317 - val_mse: 0.7753\n",
            "Epoch 382/500\n",
            "2/2 [==============================] - 0s 28ms/step - loss: 0.7172 - mae: 0.7172 - mse: 0.7678 - val_loss: 0.7320 - val_mae: 0.7320 - val_mse: 0.7758\n",
            "Epoch 383/500\n",
            "2/2 [==============================] - 0s 27ms/step - loss: 0.7171 - mae: 0.7171 - mse: 0.7674 - val_loss: 0.7324 - val_mae: 0.7324 - val_mse: 0.7762\n",
            "Epoch 384/500\n",
            "2/2 [==============================] - 0s 29ms/step - loss: 0.7170 - mae: 0.7170 - mse: 0.7672 - val_loss: 0.7327 - val_mae: 0.7327 - val_mse: 0.7767\n",
            "Epoch 385/500\n",
            "2/2 [==============================] - 0s 31ms/step - loss: 0.7170 - mae: 0.7170 - mse: 0.7668 - val_loss: 0.7331 - val_mae: 0.7331 - val_mse: 0.7772\n",
            "Epoch 386/500\n",
            "2/2 [==============================] - 0s 34ms/step - loss: 0.7169 - mae: 0.7169 - mse: 0.7666 - val_loss: 0.7336 - val_mae: 0.7336 - val_mse: 0.7778\n",
            "Epoch 387/500\n",
            "2/2 [==============================] - 0s 31ms/step - loss: 0.7169 - mae: 0.7169 - mse: 0.7662 - val_loss: 0.7340 - val_mae: 0.7340 - val_mse: 0.7784\n",
            "Epoch 388/500\n",
            "2/2 [==============================] - 0s 30ms/step - loss: 0.7168 - mae: 0.7168 - mse: 0.7659 - val_loss: 0.7344 - val_mae: 0.7344 - val_mse: 0.7789\n",
            "Epoch 389/500\n",
            "2/2 [==============================] - 0s 24ms/step - loss: 0.7168 - mae: 0.7168 - mse: 0.7655 - val_loss: 0.7347 - val_mae: 0.7347 - val_mse: 0.7793\n",
            "Epoch 390/500\n",
            "2/2 [==============================] - 0s 28ms/step - loss: 0.7167 - mae: 0.7167 - mse: 0.7653 - val_loss: 0.7351 - val_mae: 0.7351 - val_mse: 0.7797\n",
            "Epoch 391/500\n",
            "2/2 [==============================] - 0s 29ms/step - loss: 0.7166 - mae: 0.7166 - mse: 0.7650 - val_loss: 0.7355 - val_mae: 0.7355 - val_mse: 0.7803\n",
            "Epoch 392/500\n",
            "2/2 [==============================] - 0s 26ms/step - loss: 0.7165 - mae: 0.7165 - mse: 0.7647 - val_loss: 0.7360 - val_mae: 0.7360 - val_mse: 0.7809\n",
            "Epoch 393/500\n",
            "2/2 [==============================] - 0s 30ms/step - loss: 0.7164 - mae: 0.7164 - mse: 0.7643 - val_loss: 0.7366 - val_mae: 0.7366 - val_mse: 0.7817\n",
            "Epoch 394/500\n",
            "2/2 [==============================] - 0s 29ms/step - loss: 0.7164 - mae: 0.7164 - mse: 0.7638 - val_loss: 0.7372 - val_mae: 0.7372 - val_mse: 0.7825\n",
            "Epoch 395/500\n",
            "2/2 [==============================] - 0s 28ms/step - loss: 0.7163 - mae: 0.7163 - mse: 0.7634 - val_loss: 0.7377 - val_mae: 0.7377 - val_mse: 0.7833\n",
            "Epoch 396/500\n",
            "2/2 [==============================] - 0s 27ms/step - loss: 0.7161 - mae: 0.7161 - mse: 0.7628 - val_loss: 0.7382 - val_mae: 0.7382 - val_mse: 0.7839\n",
            "Epoch 397/500\n",
            "2/2 [==============================] - 0s 31ms/step - loss: 0.7162 - mae: 0.7162 - mse: 0.7625 - val_loss: 0.7388 - val_mae: 0.7388 - val_mse: 0.7847\n",
            "Epoch 398/500\n",
            "2/2 [==============================] - 0s 29ms/step - loss: 0.7161 - mae: 0.7161 - mse: 0.7622 - val_loss: 0.7392 - val_mae: 0.7392 - val_mse: 0.7852\n",
            "Epoch 399/500\n",
            "2/2 [==============================] - 0s 27ms/step - loss: 0.7160 - mae: 0.7160 - mse: 0.7618 - val_loss: 0.7396 - val_mae: 0.7396 - val_mse: 0.7858\n",
            "Epoch 400/500\n",
            "2/2 [==============================] - 0s 34ms/step - loss: 0.7161 - mae: 0.7161 - mse: 0.7615 - val_loss: 0.7401 - val_mae: 0.7401 - val_mse: 0.7864\n",
            "Epoch 401/500\n",
            "2/2 [==============================] - 0s 27ms/step - loss: 0.7160 - mae: 0.7160 - mse: 0.7612 - val_loss: 0.7405 - val_mae: 0.7405 - val_mse: 0.7870\n",
            "Epoch 402/500\n",
            "2/2 [==============================] - 0s 34ms/step - loss: 0.7160 - mae: 0.7160 - mse: 0.7608 - val_loss: 0.7409 - val_mae: 0.7409 - val_mse: 0.7875\n",
            "Epoch 403/500\n",
            "2/2 [==============================] - 0s 29ms/step - loss: 0.7160 - mae: 0.7160 - mse: 0.7605 - val_loss: 0.7413 - val_mae: 0.7413 - val_mse: 0.7880\n",
            "Epoch 404/500\n",
            "2/2 [==============================] - 0s 28ms/step - loss: 0.7159 - mae: 0.7159 - mse: 0.7603 - val_loss: 0.7415 - val_mae: 0.7415 - val_mse: 0.7884\n",
            "Epoch 405/500\n",
            "2/2 [==============================] - 0s 32ms/step - loss: 0.7159 - mae: 0.7159 - mse: 0.7600 - val_loss: 0.7419 - val_mae: 0.7419 - val_mse: 0.7888\n",
            "Epoch 406/500\n",
            "2/2 [==============================] - 0s 28ms/step - loss: 0.7159 - mae: 0.7159 - mse: 0.7599 - val_loss: 0.7422 - val_mae: 0.7422 - val_mse: 0.7893\n",
            "Epoch 407/500\n",
            "2/2 [==============================] - 0s 35ms/step - loss: 0.7159 - mae: 0.7159 - mse: 0.7596 - val_loss: 0.7424 - val_mae: 0.7424 - val_mse: 0.7896\n",
            "Epoch 408/500\n",
            "2/2 [==============================] - 0s 30ms/step - loss: 0.7159 - mae: 0.7159 - mse: 0.7594 - val_loss: 0.7427 - val_mae: 0.7427 - val_mse: 0.7900\n",
            "Epoch 409/500\n",
            "2/2 [==============================] - 0s 31ms/step - loss: 0.7158 - mae: 0.7158 - mse: 0.7592 - val_loss: 0.7430 - val_mae: 0.7430 - val_mse: 0.7904\n",
            "Epoch 410/500\n",
            "2/2 [==============================] - 0s 31ms/step - loss: 0.7158 - mae: 0.7158 - mse: 0.7590 - val_loss: 0.7433 - val_mae: 0.7433 - val_mse: 0.7908\n",
            "Epoch 411/500\n",
            "2/2 [==============================] - 0s 34ms/step - loss: 0.7158 - mae: 0.7158 - mse: 0.7589 - val_loss: 0.7436 - val_mae: 0.7436 - val_mse: 0.7912\n",
            "Epoch 412/500\n",
            "2/2 [==============================] - 0s 26ms/step - loss: 0.7158 - mae: 0.7158 - mse: 0.7586 - val_loss: 0.7438 - val_mae: 0.7438 - val_mse: 0.7915\n",
            "Epoch 413/500\n",
            "2/2 [==============================] - 0s 27ms/step - loss: 0.7158 - mae: 0.7158 - mse: 0.7585 - val_loss: 0.7441 - val_mae: 0.7441 - val_mse: 0.7919\n",
            "Epoch 414/500\n",
            "2/2 [==============================] - 0s 27ms/step - loss: 0.7158 - mae: 0.7158 - mse: 0.7582 - val_loss: 0.7443 - val_mae: 0.7443 - val_mse: 0.7921\n",
            "Epoch 415/500\n",
            "2/2 [==============================] - 0s 30ms/step - loss: 0.7158 - mae: 0.7158 - mse: 0.7582 - val_loss: 0.7445 - val_mae: 0.7445 - val_mse: 0.7924\n",
            "Epoch 416/500\n",
            "2/2 [==============================] - 0s 30ms/step - loss: 0.7157 - mae: 0.7157 - mse: 0.7580 - val_loss: 0.7446 - val_mae: 0.7446 - val_mse: 0.7925\n",
            "Epoch 417/500\n",
            "2/2 [==============================] - 0s 27ms/step - loss: 0.7157 - mae: 0.7157 - mse: 0.7579 - val_loss: 0.7447 - val_mae: 0.7447 - val_mse: 0.7928\n",
            "Epoch 418/500\n",
            "2/2 [==============================] - 0s 35ms/step - loss: 0.7157 - mae: 0.7157 - mse: 0.7578 - val_loss: 0.7449 - val_mae: 0.7449 - val_mse: 0.7929\n",
            "Epoch 419/500\n",
            "2/2 [==============================] - 0s 29ms/step - loss: 0.7157 - mae: 0.7157 - mse: 0.7578 - val_loss: 0.7449 - val_mae: 0.7449 - val_mse: 0.7930\n",
            "Epoch 420/500\n",
            "2/2 [==============================] - 0s 31ms/step - loss: 0.7157 - mae: 0.7157 - mse: 0.7576 - val_loss: 0.7452 - val_mae: 0.7452 - val_mse: 0.7934\n",
            "Epoch 421/500\n",
            "2/2 [==============================] - 0s 26ms/step - loss: 0.7157 - mae: 0.7157 - mse: 0.7575 - val_loss: 0.7454 - val_mae: 0.7454 - val_mse: 0.7937\n",
            "Epoch 422/500\n",
            "2/2 [==============================] - 0s 32ms/step - loss: 0.7157 - mae: 0.7157 - mse: 0.7573 - val_loss: 0.7456 - val_mae: 0.7456 - val_mse: 0.7940\n",
            "Epoch 423/500\n",
            "2/2 [==============================] - 0s 38ms/step - loss: 0.7156 - mae: 0.7156 - mse: 0.7571 - val_loss: 0.7459 - val_mae: 0.7459 - val_mse: 0.7944\n",
            "Epoch 424/500\n",
            "2/2 [==============================] - 0s 28ms/step - loss: 0.7156 - mae: 0.7156 - mse: 0.7570 - val_loss: 0.7462 - val_mae: 0.7462 - val_mse: 0.7947\n",
            "Epoch 425/500\n",
            "2/2 [==============================] - 0s 30ms/step - loss: 0.7156 - mae: 0.7156 - mse: 0.7568 - val_loss: 0.7464 - val_mae: 0.7464 - val_mse: 0.7950\n",
            "Epoch 426/500\n",
            "2/2 [==============================] - 0s 38ms/step - loss: 0.7156 - mae: 0.7156 - mse: 0.7566 - val_loss: 0.7466 - val_mae: 0.7466 - val_mse: 0.7953\n",
            "Epoch 427/500\n",
            "2/2 [==============================] - 0s 33ms/step - loss: 0.7156 - mae: 0.7156 - mse: 0.7565 - val_loss: 0.7468 - val_mae: 0.7468 - val_mse: 0.7956\n",
            "Epoch 428/500\n",
            "2/2 [==============================] - 0s 35ms/step - loss: 0.7156 - mae: 0.7156 - mse: 0.7564 - val_loss: 0.7469 - val_mae: 0.7469 - val_mse: 0.7958\n",
            "Epoch 429/500\n",
            "2/2 [==============================] - 0s 29ms/step - loss: 0.7156 - mae: 0.7156 - mse: 0.7562 - val_loss: 0.7471 - val_mae: 0.7471 - val_mse: 0.7960\n",
            "Epoch 430/500\n",
            "2/2 [==============================] - 0s 27ms/step - loss: 0.7156 - mae: 0.7156 - mse: 0.7562 - val_loss: 0.7472 - val_mae: 0.7472 - val_mse: 0.7961\n",
            "Epoch 431/500\n",
            "2/2 [==============================] - 0s 32ms/step - loss: 0.7155 - mae: 0.7155 - mse: 0.7561 - val_loss: 0.7473 - val_mae: 0.7473 - val_mse: 0.7962\n",
            "Epoch 432/500\n",
            "2/2 [==============================] - 0s 28ms/step - loss: 0.7155 - mae: 0.7155 - mse: 0.7560 - val_loss: 0.7475 - val_mae: 0.7475 - val_mse: 0.7965\n",
            "Epoch 433/500\n",
            "2/2 [==============================] - 0s 26ms/step - loss: 0.7155 - mae: 0.7155 - mse: 0.7559 - val_loss: 0.7477 - val_mae: 0.7477 - val_mse: 0.7967\n",
            "Epoch 434/500\n",
            "2/2 [==============================] - 0s 31ms/step - loss: 0.7155 - mae: 0.7155 - mse: 0.7557 - val_loss: 0.7479 - val_mae: 0.7479 - val_mse: 0.7971\n",
            "Epoch 435/500\n",
            "2/2 [==============================] - 0s 30ms/step - loss: 0.7155 - mae: 0.7155 - mse: 0.7556 - val_loss: 0.7481 - val_mae: 0.7481 - val_mse: 0.7973\n",
            "Epoch 436/500\n",
            "2/2 [==============================] - 0s 39ms/step - loss: 0.7155 - mae: 0.7155 - mse: 0.7555 - val_loss: 0.7482 - val_mae: 0.7482 - val_mse: 0.7976\n",
            "Epoch 437/500\n",
            "2/2 [==============================] - 0s 25ms/step - loss: 0.7155 - mae: 0.7155 - mse: 0.7553 - val_loss: 0.7486 - val_mae: 0.7486 - val_mse: 0.7980\n",
            "Epoch 438/500\n",
            "2/2 [==============================] - 0s 33ms/step - loss: 0.7154 - mae: 0.7154 - mse: 0.7551 - val_loss: 0.7488 - val_mae: 0.7488 - val_mse: 0.7984\n",
            "Epoch 439/500\n",
            "2/2 [==============================] - 0s 29ms/step - loss: 0.7154 - mae: 0.7154 - mse: 0.7550 - val_loss: 0.7491 - val_mae: 0.7491 - val_mse: 0.7987\n",
            "Epoch 440/500\n",
            "2/2 [==============================] - 0s 27ms/step - loss: 0.7154 - mae: 0.7154 - mse: 0.7548 - val_loss: 0.7493 - val_mae: 0.7493 - val_mse: 0.7990\n",
            "Epoch 441/500\n",
            "2/2 [==============================] - 0s 30ms/step - loss: 0.7154 - mae: 0.7154 - mse: 0.7546 - val_loss: 0.7496 - val_mae: 0.7496 - val_mse: 0.7994\n",
            "Epoch 442/500\n",
            "2/2 [==============================] - 0s 29ms/step - loss: 0.7154 - mae: 0.7154 - mse: 0.7545 - val_loss: 0.7498 - val_mae: 0.7498 - val_mse: 0.7997\n",
            "Epoch 443/500\n",
            "2/2 [==============================] - 0s 34ms/step - loss: 0.7154 - mae: 0.7154 - mse: 0.7543 - val_loss: 0.7499 - val_mae: 0.7499 - val_mse: 0.7998\n",
            "Epoch 444/500\n",
            "2/2 [==============================] - 0s 25ms/step - loss: 0.7154 - mae: 0.7154 - mse: 0.7543 - val_loss: 0.7500 - val_mae: 0.7500 - val_mse: 0.7999\n",
            "Epoch 445/500\n",
            "2/2 [==============================] - 0s 26ms/step - loss: 0.7154 - mae: 0.7154 - mse: 0.7542 - val_loss: 0.7501 - val_mae: 0.7501 - val_mse: 0.8001\n",
            "Epoch 446/500\n",
            "2/2 [==============================] - 0s 28ms/step - loss: 0.7153 - mae: 0.7153 - mse: 0.7541 - val_loss: 0.7502 - val_mae: 0.7502 - val_mse: 0.8003\n",
            "Epoch 447/500\n",
            "2/2 [==============================] - 0s 28ms/step - loss: 0.7153 - mae: 0.7153 - mse: 0.7540 - val_loss: 0.7504 - val_mae: 0.7504 - val_mse: 0.8005\n",
            "Epoch 448/500\n",
            "2/2 [==============================] - 0s 29ms/step - loss: 0.7153 - mae: 0.7153 - mse: 0.7539 - val_loss: 0.7506 - val_mae: 0.7506 - val_mse: 0.8008\n",
            "Epoch 449/500\n",
            "2/2 [==============================] - 0s 37ms/step - loss: 0.7153 - mae: 0.7153 - mse: 0.7538 - val_loss: 0.7508 - val_mae: 0.7508 - val_mse: 0.8010\n",
            "Epoch 450/500\n",
            "2/2 [==============================] - 0s 31ms/step - loss: 0.7153 - mae: 0.7153 - mse: 0.7537 - val_loss: 0.7509 - val_mae: 0.7509 - val_mse: 0.8012\n",
            "Epoch 451/500\n",
            "2/2 [==============================] - 0s 30ms/step - loss: 0.7153 - mae: 0.7153 - mse: 0.7537 - val_loss: 0.7509 - val_mae: 0.7509 - val_mse: 0.8013\n",
            "Epoch 452/500\n",
            "2/2 [==============================] - 0s 30ms/step - loss: 0.7153 - mae: 0.7153 - mse: 0.7536 - val_loss: 0.7512 - val_mae: 0.7512 - val_mse: 0.8016\n",
            "Epoch 453/500\n",
            "2/2 [==============================] - 0s 34ms/step - loss: 0.7153 - mae: 0.7153 - mse: 0.7534 - val_loss: 0.7514 - val_mae: 0.7514 - val_mse: 0.8020\n",
            "Epoch 454/500\n",
            "2/2 [==============================] - 0s 33ms/step - loss: 0.7153 - mae: 0.7153 - mse: 0.7532 - val_loss: 0.7516 - val_mae: 0.7516 - val_mse: 0.8022\n",
            "Epoch 455/500\n",
            "2/2 [==============================] - 0s 28ms/step - loss: 0.7152 - mae: 0.7152 - mse: 0.7532 - val_loss: 0.7517 - val_mae: 0.7517 - val_mse: 0.8023\n",
            "Epoch 456/500\n",
            "2/2 [==============================] - 0s 34ms/step - loss: 0.7153 - mae: 0.7153 - mse: 0.7531 - val_loss: 0.7519 - val_mae: 0.7519 - val_mse: 0.8026\n",
            "Epoch 457/500\n",
            "2/2 [==============================] - 0s 35ms/step - loss: 0.7152 - mae: 0.7152 - mse: 0.7530 - val_loss: 0.7520 - val_mae: 0.7520 - val_mse: 0.8027\n",
            "Epoch 458/500\n",
            "2/2 [==============================] - 0s 27ms/step - loss: 0.7152 - mae: 0.7152 - mse: 0.7529 - val_loss: 0.7521 - val_mae: 0.7521 - val_mse: 0.8029\n",
            "Epoch 459/500\n",
            "2/2 [==============================] - 0s 32ms/step - loss: 0.7152 - mae: 0.7152 - mse: 0.7528 - val_loss: 0.7522 - val_mae: 0.7522 - val_mse: 0.8030\n",
            "Epoch 460/500\n",
            "2/2 [==============================] - 0s 42ms/step - loss: 0.7152 - mae: 0.7152 - mse: 0.7528 - val_loss: 0.7524 - val_mae: 0.7524 - val_mse: 0.8033\n",
            "Epoch 461/500\n",
            "2/2 [==============================] - 0s 26ms/step - loss: 0.7152 - mae: 0.7152 - mse: 0.7526 - val_loss: 0.7524 - val_mae: 0.7524 - val_mse: 0.8033\n",
            "Epoch 462/500\n",
            "2/2 [==============================] - 0s 28ms/step - loss: 0.7152 - mae: 0.7152 - mse: 0.7526 - val_loss: 0.7524 - val_mae: 0.7524 - val_mse: 0.8033\n",
            "Epoch 463/500\n",
            "2/2 [==============================] - 0s 37ms/step - loss: 0.7152 - mae: 0.7152 - mse: 0.7527 - val_loss: 0.7524 - val_mae: 0.7524 - val_mse: 0.8033\n",
            "Epoch 464/500\n",
            "2/2 [==============================] - 0s 29ms/step - loss: 0.7152 - mae: 0.7152 - mse: 0.7526 - val_loss: 0.7526 - val_mae: 0.7526 - val_mse: 0.8035\n",
            "Epoch 465/500\n",
            "2/2 [==============================] - 0s 30ms/step - loss: 0.7152 - mae: 0.7152 - mse: 0.7525 - val_loss: 0.7528 - val_mae: 0.7528 - val_mse: 0.8038\n",
            "Epoch 466/500\n",
            "2/2 [==============================] - 0s 26ms/step - loss: 0.7152 - mae: 0.7152 - mse: 0.7524 - val_loss: 0.7529 - val_mae: 0.7529 - val_mse: 0.8039\n",
            "Epoch 467/500\n",
            "2/2 [==============================] - 0s 25ms/step - loss: 0.7151 - mae: 0.7151 - mse: 0.7523 - val_loss: 0.7530 - val_mae: 0.7530 - val_mse: 0.8042\n",
            "Epoch 468/500\n",
            "2/2 [==============================] - 0s 27ms/step - loss: 0.7151 - mae: 0.7151 - mse: 0.7522 - val_loss: 0.7532 - val_mae: 0.7532 - val_mse: 0.8043\n",
            "Epoch 469/500\n",
            "2/2 [==============================] - 0s 26ms/step - loss: 0.7151 - mae: 0.7151 - mse: 0.7521 - val_loss: 0.7533 - val_mae: 0.7533 - val_mse: 0.8046\n",
            "Epoch 470/500\n",
            "2/2 [==============================] - 0s 27ms/step - loss: 0.7151 - mae: 0.7151 - mse: 0.7520 - val_loss: 0.7535 - val_mae: 0.7535 - val_mse: 0.8048\n",
            "Epoch 471/500\n",
            "2/2 [==============================] - 0s 28ms/step - loss: 0.7151 - mae: 0.7151 - mse: 0.7519 - val_loss: 0.7537 - val_mae: 0.7537 - val_mse: 0.8051\n",
            "Epoch 472/500\n",
            "2/2 [==============================] - 0s 30ms/step - loss: 0.7151 - mae: 0.7151 - mse: 0.7518 - val_loss: 0.7539 - val_mae: 0.7539 - val_mse: 0.8054\n",
            "Epoch 473/500\n",
            "2/2 [==============================] - 0s 26ms/step - loss: 0.7151 - mae: 0.7151 - mse: 0.7516 - val_loss: 0.7542 - val_mae: 0.7542 - val_mse: 0.8058\n",
            "Epoch 474/500\n",
            "2/2 [==============================] - 0s 28ms/step - loss: 0.7151 - mae: 0.7151 - mse: 0.7515 - val_loss: 0.7545 - val_mae: 0.7545 - val_mse: 0.8062\n",
            "Epoch 475/500\n",
            "2/2 [==============================] - 0s 26ms/step - loss: 0.7150 - mae: 0.7150 - mse: 0.7513 - val_loss: 0.7547 - val_mae: 0.7547 - val_mse: 0.8065\n",
            "Epoch 476/500\n",
            "2/2 [==============================] - 0s 26ms/step - loss: 0.7150 - mae: 0.7150 - mse: 0.7512 - val_loss: 0.7549 - val_mae: 0.7549 - val_mse: 0.8067\n",
            "Epoch 477/500\n",
            "2/2 [==============================] - 0s 28ms/step - loss: 0.7150 - mae: 0.7150 - mse: 0.7511 - val_loss: 0.7550 - val_mae: 0.7550 - val_mse: 0.8070\n",
            "Epoch 478/500\n",
            "2/2 [==============================] - 0s 27ms/step - loss: 0.7150 - mae: 0.7150 - mse: 0.7510 - val_loss: 0.7553 - val_mae: 0.7553 - val_mse: 0.8074\n",
            "Epoch 479/500\n",
            "2/2 [==============================] - 0s 26ms/step - loss: 0.7150 - mae: 0.7150 - mse: 0.7508 - val_loss: 0.7556 - val_mae: 0.7556 - val_mse: 0.8078\n",
            "Epoch 480/500\n",
            "2/2 [==============================] - 0s 27ms/step - loss: 0.7150 - mae: 0.7150 - mse: 0.7506 - val_loss: 0.7558 - val_mae: 0.7558 - val_mse: 0.8081\n",
            "Epoch 481/500\n",
            "2/2 [==============================] - 0s 34ms/step - loss: 0.7149 - mae: 0.7149 - mse: 0.7505 - val_loss: 0.7561 - val_mae: 0.7561 - val_mse: 0.8085\n",
            "Epoch 482/500\n",
            "2/2 [==============================] - 0s 33ms/step - loss: 0.7149 - mae: 0.7149 - mse: 0.7503 - val_loss: 0.7564 - val_mae: 0.7564 - val_mse: 0.8090\n",
            "Epoch 483/500\n",
            "2/2 [==============================] - 0s 23ms/step - loss: 0.7148 - mae: 0.7148 - mse: 0.7501 - val_loss: 0.7570 - val_mae: 0.7570 - val_mse: 0.8098\n",
            "Epoch 484/500\n",
            "2/2 [==============================] - 0s 31ms/step - loss: 0.7149 - mae: 0.7149 - mse: 0.7496 - val_loss: 0.7576 - val_mae: 0.7576 - val_mse: 0.8107\n",
            "Epoch 485/500\n",
            "2/2 [==============================] - 0s 28ms/step - loss: 0.7149 - mae: 0.7149 - mse: 0.7494 - val_loss: 0.7580 - val_mae: 0.7580 - val_mse: 0.8113\n",
            "Epoch 486/500\n",
            "2/2 [==============================] - 0s 33ms/step - loss: 0.7149 - mae: 0.7149 - mse: 0.7492 - val_loss: 0.7583 - val_mae: 0.7583 - val_mse: 0.8117\n",
            "Epoch 487/500\n",
            "2/2 [==============================] - 0s 39ms/step - loss: 0.7150 - mae: 0.7150 - mse: 0.7490 - val_loss: 0.7585 - val_mae: 0.7585 - val_mse: 0.8120\n",
            "Epoch 488/500\n",
            "2/2 [==============================] - 0s 37ms/step - loss: 0.7149 - mae: 0.7149 - mse: 0.7489 - val_loss: 0.7585 - val_mae: 0.7585 - val_mse: 0.8121\n",
            "Epoch 489/500\n",
            "2/2 [==============================] - 0s 33ms/step - loss: 0.7149 - mae: 0.7149 - mse: 0.7489 - val_loss: 0.7585 - val_mae: 0.7585 - val_mse: 0.8121\n",
            "Epoch 490/500\n",
            "2/2 [==============================] - 0s 30ms/step - loss: 0.7149 - mae: 0.7149 - mse: 0.7489 - val_loss: 0.7586 - val_mae: 0.7586 - val_mse: 0.8121\n",
            "Epoch 491/500\n",
            "2/2 [==============================] - 0s 34ms/step - loss: 0.7149 - mae: 0.7149 - mse: 0.7488 - val_loss: 0.7587 - val_mae: 0.7587 - val_mse: 0.8122\n",
            "Epoch 492/500\n",
            "2/2 [==============================] - 0s 29ms/step - loss: 0.7149 - mae: 0.7149 - mse: 0.7488 - val_loss: 0.7587 - val_mae: 0.7587 - val_mse: 0.8123\n",
            "Epoch 493/500\n",
            "2/2 [==============================] - 0s 28ms/step - loss: 0.7149 - mae: 0.7149 - mse: 0.7488 - val_loss: 0.7588 - val_mae: 0.7588 - val_mse: 0.8124\n",
            "Epoch 494/500\n",
            "2/2 [==============================] - 0s 31ms/step - loss: 0.7150 - mae: 0.7150 - mse: 0.7488 - val_loss: 0.7588 - val_mae: 0.7588 - val_mse: 0.8123\n",
            "Epoch 495/500\n",
            "2/2 [==============================] - 0s 39ms/step - loss: 0.7149 - mae: 0.7149 - mse: 0.7487 - val_loss: 0.7585 - val_mae: 0.7585 - val_mse: 0.8120\n",
            "Epoch 496/500\n",
            "2/2 [==============================] - 0s 30ms/step - loss: 0.7149 - mae: 0.7149 - mse: 0.7489 - val_loss: 0.7583 - val_mae: 0.7583 - val_mse: 0.8116\n",
            "Epoch 497/500\n",
            "2/2 [==============================] - 0s 24ms/step - loss: 0.7149 - mae: 0.7149 - mse: 0.7491 - val_loss: 0.7580 - val_mae: 0.7580 - val_mse: 0.8112\n",
            "Epoch 498/500\n",
            "2/2 [==============================] - 0s 35ms/step - loss: 0.7149 - mae: 0.7149 - mse: 0.7492 - val_loss: 0.7578 - val_mae: 0.7578 - val_mse: 0.8109\n",
            "Epoch 499/500\n",
            "2/2 [==============================] - 0s 34ms/step - loss: 0.7150 - mae: 0.7150 - mse: 0.7494 - val_loss: 0.7576 - val_mae: 0.7576 - val_mse: 0.8105\n",
            "Epoch 500/500\n",
            "2/2 [==============================] - 0s 27ms/step - loss: 0.7149 - mae: 0.7149 - mse: 0.7495 - val_loss: 0.7575 - val_mae: 0.7575 - val_mse: 0.8104\n"
          ],
          "name": "stdout"
        }
      ]
    },
    {
      "cell_type": "code",
      "metadata": {
        "id": "6zYkLGS6wQyy",
        "colab": {
          "base_uri": "https://localhost:8080/"
        },
        "outputId": "36f824f3-f177-4169-fe33-9f999f078a77"
      },
      "source": [
        "print(history)"
      ],
      "execution_count": 100,
      "outputs": [
        {
          "output_type": "stream",
          "text": [
            "<tensorflow.python.keras.callbacks.History object at 0x7feefeff4b90>\n"
          ],
          "name": "stdout"
        }
      ]
    },
    {
      "cell_type": "code",
      "metadata": {
        "colab": {
          "base_uri": "https://localhost:8080/"
        },
        "id": "1lsbk_ohAu1j",
        "outputId": "b49ea035-998b-4837-f097-5c3bc3b34e65"
      },
      "source": [
        "model.summary()"
      ],
      "execution_count": 101,
      "outputs": [
        {
          "output_type": "stream",
          "text": [
            "Model: \"sequential_4\"\n",
            "_________________________________________________________________\n",
            "Layer (type)                 Output Shape              Param #   \n",
            "=================================================================\n",
            "dense_4 (Dense)              (None, 1)                 2         \n",
            "=================================================================\n",
            "Total params: 2\n",
            "Trainable params: 2\n",
            "Non-trainable params: 0\n",
            "_________________________________________________________________\n"
          ],
          "name": "stdout"
        }
      ]
    },
    {
      "cell_type": "code",
      "metadata": {
        "colab": {
          "base_uri": "https://localhost:8080/",
          "height": 1000
        },
        "id": "P6VnkPim7tH7",
        "outputId": "f76f2a24-e924-4202-aad9-b7ec2723f2cb"
      },
      "source": [
        "# tempString = 'mse'\n",
        "def curvePlots(tempString):\n",
        "  plt.plot(history.history[tempString])\n",
        "  plt.plot(history.history[f'val_{tempString}'])\n",
        "  plt.xlabel('NumEpochs')\n",
        "  plt.ylabel(tempString)\n",
        "  plt.legend([tempString, f'val_{tempString}'])\n",
        "  plt.show()\n",
        "\n",
        "\n",
        "curvePlots('mse')\n",
        "curvePlots('mae')\n",
        "curvePlots('loss')"
      ],
      "execution_count": 102,
      "outputs": [
        {
          "output_type": "display_data",
          "data": {
            "image/png": "[encoded data removed]",
            "text/plain": [
              "<Figure size 576x396 with 1 Axes>"
            ]
          },
          "metadata": {
            "tags": []
          }
        },
        {
          "output_type": "display_data",
          "data": {
            "image/png": "[encoded data removed]",
            "text/plain": [
              "<Figure size 576x396 with 1 Axes>"
            ]
          },
          "metadata": {
            "tags": []
          }
        },
        {
          "output_type": "display_data",
          "data": {
            "image/png": "[encoded data removed]",
            "text/plain": [
              "<Figure size 576x396 with 1 Axes>"
            ]
          },
          "metadata": {
            "tags": []
          }
        }
      ]
    },
    {
      "cell_type": "code",
      "metadata": {
        "id": "esW0eHQbzoj4",
        "colab": {
          "base_uri": "https://localhost:8080/"
        },
        "outputId": "8de60400-1e2d-4706-e68a-ed72727247ab"
      },
      "source": [
        "model.predict([1])"
      ],
      "execution_count": 103,
      "outputs": [
        {
          "output_type": "stream",
          "text": [
            "WARNING:tensorflow:5 out of the last 12 calls to <function Model.make_predict_function.<locals>.predict_function at 0x7feefed438c0> triggered tf.function retracing. Tracing is expensive and the excessive number of tracings could be due to (1) creating @tf.function repeatedly in a loop, (2) passing tensors with different shapes, (3) passing Python objects instead of tensors. For (1), please define your @tf.function outside of the loop. For (2), @tf.function has experimental_relax_shapes=True option that relaxes argument shapes that can avoid unnecessary retracing. For (3), please refer to https://www.tensorflow.org/guide/function#controlling_retracing and https://www.tensorflow.org/api_docs/python/tf/function for  more details.\n"
          ],
          "name": "stdout"
        },
        {
          "output_type": "execute_result",
          "data": {
            "text/plain": [
              "array([[2.0353265]], dtype=float32)"
            ]
          },
          "metadata": {
            "tags": []
          },
          "execution_count": 103
        }
      ]
    },
    {
      "cell_type": "code",
      "metadata": {
        "colab": {
          "base_uri": "https://localhost:8080/"
        },
        "id": "KJrLWamX8Tg-",
        "outputId": "563dfc76-79ef-4094-8872-30f3fc6f15f1"
      },
      "source": [
        "# testPreds = model.predict(testFeatures).flatten() #array of all prediction values\n",
        "\n",
        "#for single values\n",
        "\n",
        "print(f'Prediction for input value 1: {model.predict([1])}')\n",
        "\n",
        "\n",
        "# for a list of values\n",
        "tempListforPreds = [1,2,3,4,5]\n",
        "print(f'''\n",
        "\n",
        "input List = {tempListforPreds}\n",
        "\n",
        "\n",
        "List of Predictions:\n",
        "{model.predict(tempListforPreds)}\n",
        "\n",
        "List of Predictions (flattened out):\n",
        "{model.predict(tempListforPreds).flatten()}\n",
        "''')"
      ],
      "execution_count": 105,
      "outputs": [
        {
          "output_type": "stream",
          "text": [
            "Prediction for input value 1: [[2.0353265]]\n",
            "\n",
            "\n",
            "input List = [1, 2, 3, 4, 5]\n",
            "\n",
            "\n",
            "List of Predictions:\n",
            "[[2.0353265]\n",
            " [2.556744 ]\n",
            " [3.0781617]\n",
            " [3.5995793]\n",
            " [4.120997 ]]\n",
            "\n",
            "List of Predictions (flattened out):\n",
            "[2.0353265 2.556744  3.0781617 3.5995793 4.120997 ]\n",
            "\n"
          ],
          "name": "stdout"
        }
      ]
    },
    {
      "cell_type": "code",
      "metadata": {
        "id": "vJNFh6hc0K6r",
        "colab": {
          "base_uri": "https://localhost:8080/"
        },
        "outputId": "ac58428b-0d65-4c9e-daeb-ffbc5a728c46"
      },
      "source": [
        "print(testFeatures)"
      ],
      "execution_count": 106,
      "outputs": [
        {
          "output_type": "stream",
          "text": [
            "       consc\n",
            "0   2.659688\n",
            "3   1.734497\n",
            "9   3.039057\n",
            "19  3.345485\n",
            "21  2.412827\n",
            "23  1.296842\n",
            "36  2.287142\n",
            "39  1.768703\n",
            "44  4.538686\n",
            "47  1.941976\n",
            "53  3.479013\n",
            "55  0.573460\n"
          ],
          "name": "stdout"
        }
      ]
    },
    {
      "cell_type": "code",
      "metadata": {
        "id": "MniGZOu50IyN"
      },
      "source": [
        "testPreds = model.predict(testFeatures).flatten() #array of all prediction values"
      ],
      "execution_count": 107,
      "outputs": []
    },
    {
      "cell_type": "code",
      "metadata": {
        "id": "du0Orwu40Qan",
        "colab": {
          "base_uri": "https://localhost:8080/"
        },
        "outputId": "4ec89abf-78ab-4199-8ccf-ef8dfecb0801"
      },
      "source": [
        "print(len(testPreds))\n",
        "print(testPreds)"
      ],
      "execution_count": 108,
      "outputs": [
        {
          "output_type": "stream",
          "text": [
            "12\n",
            "[2.9007173 2.4183064 3.0985265 3.2583036 2.7719994 2.190105  2.7064648\n",
            " 2.4361415 3.8804593 2.5264893 3.3279274 1.8129212]\n"
          ],
          "name": "stdout"
        }
      ]
    },
    {
      "cell_type": "code",
      "metadata": {
        "colab": {
          "base_uri": "https://localhost:8080/",
          "height": 361
        },
        "id": "EfP8bB_v89Wa",
        "outputId": "d0757383-f13f-4de9-ff6a-8c096a18866b"
      },
      "source": [
        "# prediciton plot --> how well is your model predicting across the actual labels\n",
        "\n",
        "def predPlot(labels, predictions):\n",
        "  plt.scatter(labels, predictions)\n",
        "  plt.ylabel('Predictions')\n",
        "  plt.xlabel('True Value or Labels')\n",
        "  plt.axis('equal')\n",
        "  plt.axis('square')\n",
        "  plt.xlim([0, plt.xlim()[1]])\n",
        "  plt.ylim([0, plt.ylim()[1]])\n",
        "  plt.show()\n",
        "\n",
        "predPlot(testLabels, testPreds)"
      ],
      "execution_count": 109,
      "outputs": [
        {
          "output_type": "display_data",
          "data": {
            "image/png": "[encoded data removed]",
            "text/plain": [
              "<Figure size 576x396 with 1 Axes>"
            ]
          },
          "metadata": {
            "tags": []
          }
        }
      ]
    },
    {
      "cell_type": "code",
      "metadata": {
        "colab": {
          "base_uri": "https://localhost:8080/",
          "height": 361
        },
        "id": "70608Z0o9tWL",
        "outputId": "b13a4c06-8160-4526-b350-2608ed8ec49a"
      },
      "source": [
        "#error plot --> gaussian distribution \n",
        "\n",
        "def errorPlot(preds, labels, counts):\n",
        "  errors = preds - labels\n",
        "  plt.hist(errors, counts)\n",
        "  plt.xlabel('Error')\n",
        "  plt.ylabel('Counts')\n",
        "  plt.show()\n",
        "\n",
        "errorPlot(testPreds, testLabels, numEpochs)"
      ],
      "execution_count": 110,
      "outputs": [
        {
          "output_type": "display_data",
          "data": {
            "image/png": "[encoded data removed]",
            "text/plain": [
              "<Figure size 576x396 with 1 Axes>"
            ]
          },
          "metadata": {
            "tags": []
          }
        }
      ]
    },
    {
      "cell_type": "markdown",
      "metadata": {
        "id": "oshf2mUG1vPk"
      },
      "source": [
        "Note: \n",
        "\n",
        "\n",
        "Validation loss `val_loss` is a metric that tells you how much deviation from the actual label can you expect in the predicted label\n",
        "\n",
        "To optimize your predicitons -->\n",
        "\n",
        "- Hyperparameter tuning --> `numEpochs`, `optimizer`, `learning_rate`, lossFunctions"
      ]
    }
  ]
}